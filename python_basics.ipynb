{
 "cells": [
  {
   "cell_type": "markdown",
   "id": "519e0a66",
   "metadata": {},
   "source": [
    "## Python Basics\n",
    "\n",
    "This repository is a quick reference for basic Python operations, initial concepts, and small details that are easy to forget.  \n",
    "\n",
    "* Arithmetic Operations \n"
   ]
  },
  {
   "cell_type": "code",
   "execution_count": 28,
   "id": "b615caf6",
   "metadata": {},
   "outputs": [
    {
     "data": {
      "text/plain": [
       "2"
      ]
     },
     "execution_count": 28,
     "metadata": {},
     "output_type": "execute_result"
    }
   ],
   "source": [
    "# Addition (sum - integer)\n",
    "1 + 1"
   ]
  },
  {
   "cell_type": "code",
   "execution_count": 29,
   "id": "ce19ea16",
   "metadata": {},
   "outputs": [
    {
     "data": {
      "text/plain": [
       "2"
      ]
     },
     "execution_count": 29,
     "metadata": {},
     "output_type": "execute_result"
    }
   ],
   "source": [
    "# Subtraction (difference - integer)\n",
    "5 - 3"
   ]
  },
  {
   "cell_type": "code",
   "execution_count": 30,
   "id": "4e764a71",
   "metadata": {},
   "outputs": [
    {
     "data": {
      "text/plain": [
       "8"
      ]
     },
     "execution_count": 30,
     "metadata": {},
     "output_type": "execute_result"
    }
   ],
   "source": [
    "# Multiplication (product - integer)\n",
    "4 * 2"
   ]
  },
  {
   "cell_type": "code",
   "execution_count": 31,
   "id": "21457f47",
   "metadata": {},
   "outputs": [
    {
     "data": {
      "text/plain": [
       "2.0"
      ]
     },
     "execution_count": 31,
     "metadata": {},
     "output_type": "execute_result"
    }
   ],
   "source": [
    "# Division (quotient-float)\n",
    "8 / 4"
   ]
  },
  {
   "cell_type": "code",
   "execution_count": 32,
   "id": "d5f5f0e0",
   "metadata": {},
   "outputs": [
    {
     "data": {
      "text/plain": [
       "2"
      ]
     },
     "execution_count": 32,
     "metadata": {},
     "output_type": "execute_result"
    }
   ],
   "source": [
    "# Floor Division (quotient-integer)\n",
    "8 // 3"
   ]
  },
  {
   "cell_type": "code",
   "execution_count": 33,
   "id": "0cc0fb39",
   "metadata": {},
   "outputs": [
    {
     "data": {
      "text/plain": [
       "2"
      ]
     },
     "execution_count": 33,
     "metadata": {},
     "output_type": "execute_result"
    }
   ],
   "source": [
    "# Modulus (remainder of division - integer)\n",
    "8 % 3"
   ]
  },
  {
   "cell_type": "code",
   "execution_count": 34,
   "id": "84a878ba",
   "metadata": {},
   "outputs": [
    {
     "data": {
      "text/plain": [
       "16"
      ]
     },
     "execution_count": 34,
     "metadata": {},
     "output_type": "execute_result"
    }
   ],
   "source": [
    "# Exponentiation (power - integer)\n",
    "2 ** 4"
   ]
  },
  {
   "cell_type": "markdown",
   "id": "2e80ccd0",
   "metadata": {},
   "source": [
    "* Assignment Operators"
   ]
  },
  {
   "cell_type": "code",
   "execution_count": 35,
   "id": "8c5fed61",
   "metadata": {},
   "outputs": [
    {
     "data": {
      "text/plain": [
       "1.0"
      ]
     },
     "execution_count": 35,
     "metadata": {},
     "output_type": "execute_result"
    }
   ],
   "source": [
    "X = 2\n",
    "X += 3  # X = X + 3  (X = 2 + 3 = 5)\n",
    "X *= 2  # X = X * 2  (X = 5 * 2 = 10)\n",
    "X -= 4  # X = X - 4  (X = 10 - 4 = 6)\n",
    "X /= 2  # X = X / 2  (X = 6 / 2 = 3.0)\n",
    "X //= 2 # X = X // 2 (X = 3.0 // 2 = 1.0)\n",
    "X %= 2  # X = X % 2  (X = 1.0 % 2 = 1.0)\n",
    "X **= 3 # X = X ** 3 (X = 1.0 ** 3 = 1.0)\n",
    "X "
   ]
  },
  {
   "cell_type": "markdown",
   "id": "1ca626b5",
   "metadata": {},
   "source": [
    "* Comparison Operators"
   ]
  },
  {
   "cell_type": "code",
   "execution_count": 36,
   "id": "7835e20f",
   "metadata": {},
   "outputs": [
    {
     "data": {
      "text/plain": [
       "False"
      ]
     },
     "execution_count": 36,
     "metadata": {},
     "output_type": "execute_result"
    }
   ],
   "source": [
    "5 == 5   # True (equal)\n",
    "3 == 5   # False (equal)\n",
    "5 != 3   # True (not equal)\n",
    "3 != 3   # False (not equal)\n",
    "5 > 2    # True (greater than)\n",
    "2 > 5    # False (greater than)\n",
    "5 < 10   # True (less than)\n",
    "10 < 5   # False (less than)\n",
    "5 <= 5   # True (less than or equal to)\n",
    "5 >= 3   # True (greater than or equal to)\n",
    "3 >= 5   # False (greater than or equal to)"
   ]
  },
  {
   "cell_type": "markdown",
   "id": "290d62d5",
   "metadata": {},
   "source": [
    "* Logical Operators"
   ]
  },
  {
   "cell_type": "code",
   "execution_count": null,
   "id": "ff58c917",
   "metadata": {},
   "outputs": [],
   "source": [
    "True and False   # False (both need to be True)\n",
    "True or False    # True  (one needs to be True)\n",
    "not True         # False (negation)"
   ]
  },
  {
   "cell_type": "markdown",
   "id": "89b42537",
   "metadata": {},
   "source": [
    "* Lists"
   ]
  },
  {
   "cell_type": "code",
   "execution_count": 38,
   "id": "6ed8bfa5",
   "metadata": {},
   "outputs": [],
   "source": [
    "my_list = [1, 2, 3]"
   ]
  },
  {
   "cell_type": "code",
   "execution_count": 39,
   "id": "88500049",
   "metadata": {},
   "outputs": [],
   "source": [
    "my_list.append(4)  # Add an element to the end of the list"
   ]
  },
  {
   "cell_type": "code",
   "execution_count": 41,
   "id": "d57d22aa",
   "metadata": {},
   "outputs": [
    {
     "data": {
      "text/plain": [
       "[1, 2, 3, 4]"
      ]
     },
     "execution_count": 41,
     "metadata": {},
     "output_type": "execute_result"
    }
   ],
   "source": [
    "my_list"
   ]
  },
  {
   "cell_type": "code",
   "execution_count": null,
   "id": "1b4eddbf",
   "metadata": {},
   "outputs": [
    {
     "data": {
      "text/plain": [
       "1"
      ]
     },
     "execution_count": 44,
     "metadata": {},
     "output_type": "execute_result"
    }
   ],
   "source": [
    "my_list[0] # Access the first element (index 0)"
   ]
  },
  {
   "cell_type": "code",
   "execution_count": 46,
   "id": "29ce993e",
   "metadata": {},
   "outputs": [
    {
     "data": {
      "text/plain": [
       "[3, 4]"
      ]
     },
     "execution_count": 46,
     "metadata": {},
     "output_type": "execute_result"
    }
   ],
   "source": [
    "my_list[1:3] # [2, 3] Access elements from index 1 to 2 (3 is excluded)"
   ]
  },
  {
   "cell_type": "code",
   "execution_count": null,
   "id": "554b5dd1",
   "metadata": {},
   "outputs": [],
   "source": []
  }
 ],
 "metadata": {
  "kernelspec": {
   "display_name": "ambiente-teste-1",
   "language": "python",
   "name": "python3"
  },
  "language_info": {
   "codemirror_mode": {
    "name": "ipython",
    "version": 3
   },
   "file_extension": ".py",
   "mimetype": "text/x-python",
   "name": "python",
   "nbconvert_exporter": "python",
   "pygments_lexer": "ipython3",
   "version": "3.12.4"
  }
 },
 "nbformat": 4,
 "nbformat_minor": 5
}
