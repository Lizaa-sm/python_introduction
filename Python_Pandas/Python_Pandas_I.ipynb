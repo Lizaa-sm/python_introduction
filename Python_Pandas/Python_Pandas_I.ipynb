{
 "cells": [
  {
   "cell_type": "markdown",
   "id": "d9ddcebe",
   "metadata": {},
   "source": [
    "## **Starting the Pandas Library**\n",
    "\n",
    "Pandas is a Python library that makes it easy to work with structured data. It provides two main data structures: Series (like a labeled list) and DataFrame (like a table with rows and columns). With Pandas, you can quickly read, analyze, clean, and manipulate data from different sources such as CSV, Excel, or SQL, making it one of the most powerful tools for data analysis in Python."
   ]
  },
  {
   "cell_type": "markdown",
   "id": "fe2b93a9",
   "metadata": {},
   "source": [
    "* **Series:**"
   ]
  },
  {
   "cell_type": "code",
   "execution_count": 2,
   "id": "23f5401d",
   "metadata": {},
   "outputs": [],
   "source": [
    "import numpy as np"
   ]
  },
  {
   "cell_type": "code",
   "execution_count": 1,
   "id": "c56f5d12",
   "metadata": {},
   "outputs": [],
   "source": [
    "import pandas as pd"
   ]
  },
  {
   "cell_type": "code",
   "execution_count": null,
   "id": "6c1aa15d",
   "metadata": {},
   "outputs": [],
   "source": []
  }
 ],
 "metadata": {
  "kernelspec": {
   "display_name": "base",
   "language": "python",
   "name": "python3"
  },
  "language_info": {
   "codemirror_mode": {
    "name": "ipython",
    "version": 3
   },
   "file_extension": ".py",
   "mimetype": "text/x-python",
   "name": "python",
   "nbconvert_exporter": "python",
   "pygments_lexer": "ipython3",
   "version": "3.12.4"
  }
 },
 "nbformat": 4,
 "nbformat_minor": 5
}
