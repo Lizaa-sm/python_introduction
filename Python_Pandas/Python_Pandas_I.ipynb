{
 "cells": [
  {
   "cell_type": "markdown",
   "id": "d9ddcebe",
   "metadata": {},
   "source": [
    "## **Starting the Pandas Library**\n",
    "\n",
    "Pandas is a Python library that makes it easy to work with structured data. It provides two main data structures: Series (like a labeled list) and DataFrame (like a table with rows and columns). With Pandas, you can quickly read, analyze, clean, and manipulate data from different sources such as CSV, Excel, or SQL, making it one of the most powerful tools for data analysis in Python."
   ]
  },
  {
   "cell_type": "markdown",
   "id": "fe2b93a9",
   "metadata": {},
   "source": [
    "* **Series:**"
   ]
  },
  {
   "cell_type": "code",
   "execution_count": 1,
   "id": "23f5401d",
   "metadata": {},
   "outputs": [],
   "source": [
    "import numpy as np"
   ]
  },
  {
   "cell_type": "code",
   "execution_count": 2,
   "id": "c56f5d12",
   "metadata": {},
   "outputs": [],
   "source": [
    "import pandas as pd"
   ]
  },
  {
   "cell_type": "code",
   "execution_count": 3,
   "id": "6c1aa15d",
   "metadata": {},
   "outputs": [],
   "source": [
    "# Exemplo for beginners\n",
    "label = ['a','b','c','d'] # 4 labels\n",
    "datas = [10, 20, 30, 40] # 4 data points\n",
    "arr = np.array(datas) # numpy array\n",
    "\n",
    "e = {'a':10, 'b':20, 'c':30, 'd':40} # dictionary"
   ]
  },
  {
   "cell_type": "code",
   "execution_count": 4,
   "id": "2b27d21f",
   "metadata": {},
   "outputs": [
    {
     "data": {
      "text/plain": [
       "0    10\n",
       "1    20\n",
       "2    30\n",
       "3    40\n",
       "dtype: int64"
      ]
     },
     "execution_count": 4,
     "metadata": {},
     "output_type": "execute_result"
    }
   ],
   "source": [
    "# For creating a Series\n",
    "pd.Series(data=datas) # default index 0,1,2,3"
   ]
  },
  {
   "cell_type": "code",
   "execution_count": 5,
   "id": "5004edce",
   "metadata": {},
   "outputs": [
    {
     "data": {
      "text/plain": [
       "a    10\n",
       "b    20\n",
       "c    30\n",
       "d    40\n",
       "dtype: int64"
      ]
     },
     "execution_count": 5,
     "metadata": {},
     "output_type": "execute_result"
    }
   ],
   "source": [
    "# Next\n",
    "pd.Series(data=datas, index=label) # custom index"
   ]
  },
  {
   "cell_type": "code",
   "execution_count": 6,
   "id": "3d7fc3d8",
   "metadata": {},
   "outputs": [
    {
     "data": {
      "text/plain": [
       "a    10\n",
       "b    20\n",
       "c    30\n",
       "d    40\n",
       "dtype: int32"
      ]
     },
     "execution_count": 6,
     "metadata": {},
     "output_type": "execute_result"
    }
   ],
   "source": [
    "# You can also use:\n",
    "pd.Series(arr, label) # numpy array as data"
   ]
  },
  {
   "cell_type": "code",
   "execution_count": 7,
   "id": "69f31055",
   "metadata": {},
   "outputs": [
    {
     "data": {
      "text/plain": [
       "a    10\n",
       "b    20\n",
       "c    30\n",
       "d    40\n",
       "dtype: int64"
      ]
     },
     "execution_count": 7,
     "metadata": {},
     "output_type": "execute_result"
    }
   ],
   "source": [
    "# And you can use dictionaries\n",
    "pd.Series(e) # dictionary as data"
   ]
  },
  {
   "cell_type": "code",
   "execution_count": 8,
   "id": "4690e441",
   "metadata": {},
   "outputs": [
    {
     "name": "stdout",
     "output_type": "stream",
     "text": [
      "p1    15\n",
      "p2    30\n",
      "p3    25\n",
      "p4    62\n",
      "p5    45\n",
      "dtype: int64\n"
     ]
    }
   ],
   "source": [
    "# Now let's create a DataFrame\n",
    "serie_1 = pd.Series([15,30,25,62,45],['p1','p2','p3','p4','p5'])\n",
    "print(serie_1)"
   ]
  },
  {
   "cell_type": "code",
   "execution_count": 9,
   "id": "a0eb27c7",
   "metadata": {},
   "outputs": [
    {
     "name": "stdout",
     "output_type": "stream",
     "text": [
      "BR     1\n",
      "USA    2\n",
      "PT     3\n",
      "JP     4\n",
      "dtype: int64\n"
     ]
    }
   ],
   "source": [
    "serie_2 = pd.Series([1,2,3,4],['BR','USA','PT','JP'])\n",
    "print(serie_2) "
   ]
  },
  {
   "cell_type": "code",
   "execution_count": 10,
   "id": "55e370fa",
   "metadata": {},
   "outputs": [
    {
     "data": {
      "text/plain": [
       "4"
      ]
     },
     "execution_count": 10,
     "metadata": {},
     "output_type": "execute_result"
    }
   ],
   "source": [
    "# You can find a specific index\n",
    "serie_2['JP']"
   ]
  }
 ],
 "metadata": {
  "kernelspec": {
   "display_name": "base",
   "language": "python",
   "name": "python3"
  },
  "language_info": {
   "codemirror_mode": {
    "name": "ipython",
    "version": 3
   },
   "file_extension": ".py",
   "mimetype": "text/x-python",
   "name": "python",
   "nbconvert_exporter": "python",
   "pygments_lexer": "ipython3",
   "version": "3.12.4"
  }
 },
 "nbformat": 4,
 "nbformat_minor": 5
}
