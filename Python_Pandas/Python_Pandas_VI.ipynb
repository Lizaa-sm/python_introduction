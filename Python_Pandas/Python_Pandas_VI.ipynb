{
 "cells": [
  {
   "cell_type": "markdown",
   "id": "a0439b32",
   "metadata": {},
   "source": [
    "## **Pandas Library - Continuation**\n",
    "\n",
    "* **Groupby**: is used to split data into groups based on the values of one or more columns. After grouping, you can apply functions such as **mean, sum, count, max, min, etc.**"
   ]
  },
  {
   "cell_type": "code",
   "execution_count": null,
   "id": "d4a8ad69",
   "metadata": {},
   "outputs": [],
   "source": [
    "import numpy as np\n",
    "import pandas as pd"
   ]
  },
  {
   "cell_type": "code",
   "execution_count": null,
   "id": "62a24df4",
   "metadata": {},
   "outputs": [],
   "source": []
  }
 ],
 "metadata": {
  "kernelspec": {
   "display_name": "base",
   "language": "python",
   "name": "python3"
  },
  "language_info": {
   "codemirror_mode": {
    "name": "ipython",
    "version": 3
   },
   "file_extension": ".py",
   "mimetype": "text/x-python",
   "name": "python",
   "nbconvert_exporter": "python",
   "pygments_lexer": "ipython3",
   "version": "3.12.4"
  }
 },
 "nbformat": 4,
 "nbformat_minor": 5
}
