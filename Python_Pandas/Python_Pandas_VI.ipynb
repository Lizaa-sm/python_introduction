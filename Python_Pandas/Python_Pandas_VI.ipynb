{
 "cells": [
  {
   "cell_type": "markdown",
   "id": "a0439b32",
   "metadata": {},
   "source": [
    "## **Pandas Library - Continuation**\n",
    "\n",
    "* **Groupby**: is used to split data into groups based on the values of one or more columns. After grouping, you can apply functions such as **mean, sum, count, max, min, etc.**"
   ]
  },
  {
   "cell_type": "code",
   "execution_count": 56,
   "id": "d4a8ad69",
   "metadata": {},
   "outputs": [],
   "source": [
    "import numpy as np\n",
    "import pandas as pd"
   ]
  },
  {
   "cell_type": "code",
   "execution_count": 57,
   "id": "62a24df4",
   "metadata": {},
   "outputs": [],
   "source": [
    "datas = {'Groups':['G1','G1','G2','G2','G3','G3'],'Authors':['DanBrawn','GRRMartin','SarahJMass','JayKristoff','ArthurCDoyle','JulioVerne'],'Books':[30,100,35,20,500,75]}"
   ]
  },
  {
   "cell_type": "code",
   "execution_count": 58,
   "id": "8ef3f6b0",
   "metadata": {},
   "outputs": [
    {
     "data": {
      "text/html": [
       "<div>\n",
       "<style scoped>\n",
       "    .dataframe tbody tr th:only-of-type {\n",
       "        vertical-align: middle;\n",
       "    }\n",
       "\n",
       "    .dataframe tbody tr th {\n",
       "        vertical-align: top;\n",
       "    }\n",
       "\n",
       "    .dataframe thead th {\n",
       "        text-align: right;\n",
       "    }\n",
       "</style>\n",
       "<table border=\"1\" class=\"dataframe\">\n",
       "  <thead>\n",
       "    <tr style=\"text-align: right;\">\n",
       "      <th></th>\n",
       "      <th>Groups</th>\n",
       "      <th>Authors</th>\n",
       "      <th>Books</th>\n",
       "    </tr>\n",
       "  </thead>\n",
       "  <tbody>\n",
       "    <tr>\n",
       "      <th>0</th>\n",
       "      <td>G1</td>\n",
       "      <td>DanBrawn</td>\n",
       "      <td>30</td>\n",
       "    </tr>\n",
       "    <tr>\n",
       "      <th>1</th>\n",
       "      <td>G1</td>\n",
       "      <td>GRRMartin</td>\n",
       "      <td>100</td>\n",
       "    </tr>\n",
       "    <tr>\n",
       "      <th>2</th>\n",
       "      <td>G2</td>\n",
       "      <td>SarahJMass</td>\n",
       "      <td>35</td>\n",
       "    </tr>\n",
       "    <tr>\n",
       "      <th>3</th>\n",
       "      <td>G2</td>\n",
       "      <td>JayKristoff</td>\n",
       "      <td>20</td>\n",
       "    </tr>\n",
       "    <tr>\n",
       "      <th>4</th>\n",
       "      <td>G3</td>\n",
       "      <td>ArthurCDoyle</td>\n",
       "      <td>500</td>\n",
       "    </tr>\n",
       "    <tr>\n",
       "      <th>5</th>\n",
       "      <td>G3</td>\n",
       "      <td>JulioVerne</td>\n",
       "      <td>75</td>\n",
       "    </tr>\n",
       "  </tbody>\n",
       "</table>\n",
       "</div>"
      ],
      "text/plain": [
       "  Groups       Authors  Books\n",
       "0     G1      DanBrawn     30\n",
       "1     G1     GRRMartin    100\n",
       "2     G2    SarahJMass     35\n",
       "3     G2   JayKristoff     20\n",
       "4     G3  ArthurCDoyle    500\n",
       "5     G3    JulioVerne     75"
      ]
     },
     "execution_count": 58,
     "metadata": {},
     "output_type": "execute_result"
    }
   ],
   "source": [
    "df = pd.DataFrame(datas)\n",
    "df"
   ]
  },
  {
   "cell_type": "code",
   "execution_count": 59,
   "id": "41d94714",
   "metadata": {},
   "outputs": [],
   "source": [
    "# You need to specify the column with numbers, or else it will give an error.\n",
    "gr = df.groupby('Groups')['Books']"
   ]
  },
  {
   "cell_type": "code",
   "execution_count": 60,
   "id": "5ef2b1f5",
   "metadata": {},
   "outputs": [
    {
     "name": "stdout",
     "output_type": "stream",
     "text": [
      "Groups\n",
      "G1     65.0\n",
      "G2     27.5\n",
      "G3    287.5\n",
      "Name: Books, dtype: float64\n"
     ]
    }
   ],
   "source": [
    "print(gr.mean())"
   ]
  },
  {
   "cell_type": "code",
   "execution_count": 61,
   "id": "2bd9621a",
   "metadata": {},
   "outputs": [
    {
     "data": {
      "text/plain": [
       "Groups\n",
       "G1    130\n",
       "G2     55\n",
       "G3    575\n",
       "Name: Books, dtype: int64"
      ]
     },
     "execution_count": 61,
     "metadata": {},
     "output_type": "execute_result"
    }
   ],
   "source": [
    "gr.sum()"
   ]
  },
  {
   "cell_type": "code",
   "execution_count": 62,
   "id": "56d283ae",
   "metadata": {},
   "outputs": [
    {
     "data": {
      "text/plain": [
       "Groups\n",
       "G1     49.497475\n",
       "G2     10.606602\n",
       "G3    300.520382\n",
       "Name: Books, dtype: float64"
      ]
     },
     "execution_count": 62,
     "metadata": {},
     "output_type": "execute_result"
    }
   ],
   "source": [
    "# The standard deviation measures how spread out the values are from the mean.\n",
    "gr.std()"
   ]
  },
  {
   "cell_type": "code",
   "execution_count": 63,
   "id": "daebeec3",
   "metadata": {},
   "outputs": [
    {
     "data": {
      "text/plain": [
       "575"
      ]
     },
     "execution_count": 63,
     "metadata": {},
     "output_type": "execute_result"
    }
   ],
   "source": [
    "gr.sum().loc['G3']"
   ]
  },
  {
   "cell_type": "code",
   "execution_count": 71,
   "id": "eaebd213",
   "metadata": {},
   "outputs": [
    {
     "data": {
      "text/plain": [
       "Authors    DanBrawnGRRMartin\n",
       "Books                    130\n",
       "Name: G1, dtype: object"
      ]
     },
     "execution_count": 71,
     "metadata": {},
     "output_type": "execute_result"
    }
   ],
   "source": [
    "df.groupby('Groups').sum().loc['G1']"
   ]
  },
  {
   "cell_type": "code",
   "execution_count": 72,
   "id": "e260ea53",
   "metadata": {},
   "outputs": [
    {
     "data": {
      "text/html": [
       "<div>\n",
       "<style scoped>\n",
       "    .dataframe tbody tr th:only-of-type {\n",
       "        vertical-align: middle;\n",
       "    }\n",
       "\n",
       "    .dataframe tbody tr th {\n",
       "        vertical-align: top;\n",
       "    }\n",
       "\n",
       "    .dataframe thead th {\n",
       "        text-align: right;\n",
       "    }\n",
       "</style>\n",
       "<table border=\"1\" class=\"dataframe\">\n",
       "  <thead>\n",
       "    <tr style=\"text-align: right;\">\n",
       "      <th></th>\n",
       "      <th>Authors</th>\n",
       "      <th>Books</th>\n",
       "    </tr>\n",
       "    <tr>\n",
       "      <th>Groups</th>\n",
       "      <th></th>\n",
       "      <th></th>\n",
       "    </tr>\n",
       "  </thead>\n",
       "  <tbody>\n",
       "    <tr>\n",
       "      <th>G1</th>\n",
       "      <td>2</td>\n",
       "      <td>2</td>\n",
       "    </tr>\n",
       "    <tr>\n",
       "      <th>G2</th>\n",
       "      <td>2</td>\n",
       "      <td>2</td>\n",
       "    </tr>\n",
       "    <tr>\n",
       "      <th>G3</th>\n",
       "      <td>2</td>\n",
       "      <td>2</td>\n",
       "    </tr>\n",
       "  </tbody>\n",
       "</table>\n",
       "</div>"
      ],
      "text/plain": [
       "        Authors  Books\n",
       "Groups                \n",
       "G1            2      2\n",
       "G2            2      2\n",
       "G3            2      2"
      ]
     },
     "execution_count": 72,
     "metadata": {},
     "output_type": "execute_result"
    }
   ],
   "source": [
    "df.groupby('Groups').count()"
   ]
  },
  {
   "cell_type": "code",
   "execution_count": null,
   "id": "62f45ef1",
   "metadata": {},
   "outputs": [
    {
     "data": {
      "text/html": [
       "<div>\n",
       "<style scoped>\n",
       "    .dataframe tbody tr th:only-of-type {\n",
       "        vertical-align: middle;\n",
       "    }\n",
       "\n",
       "    .dataframe tbody tr th {\n",
       "        vertical-align: top;\n",
       "    }\n",
       "\n",
       "    .dataframe thead tr th {\n",
       "        text-align: left;\n",
       "    }\n",
       "\n",
       "    .dataframe thead tr:last-of-type th {\n",
       "        text-align: right;\n",
       "    }\n",
       "</style>\n",
       "<table border=\"1\" class=\"dataframe\">\n",
       "  <thead>\n",
       "    <tr>\n",
       "      <th></th>\n",
       "      <th colspan=\"8\" halign=\"left\">Books</th>\n",
       "    </tr>\n",
       "    <tr>\n",
       "      <th></th>\n",
       "      <th>count</th>\n",
       "      <th>mean</th>\n",
       "      <th>std</th>\n",
       "      <th>min</th>\n",
       "      <th>25%</th>\n",
       "      <th>50%</th>\n",
       "      <th>75%</th>\n",
       "      <th>max</th>\n",
       "    </tr>\n",
       "    <tr>\n",
       "      <th>Groups</th>\n",
       "      <th></th>\n",
       "      <th></th>\n",
       "      <th></th>\n",
       "      <th></th>\n",
       "      <th></th>\n",
       "      <th></th>\n",
       "      <th></th>\n",
       "      <th></th>\n",
       "    </tr>\n",
       "  </thead>\n",
       "  <tbody>\n",
       "    <tr>\n",
       "      <th>G1</th>\n",
       "      <td>2.0</td>\n",
       "      <td>65.0</td>\n",
       "      <td>49.497475</td>\n",
       "      <td>30.0</td>\n",
       "      <td>47.50</td>\n",
       "      <td>65.0</td>\n",
       "      <td>82.50</td>\n",
       "      <td>100.0</td>\n",
       "    </tr>\n",
       "    <tr>\n",
       "      <th>G2</th>\n",
       "      <td>2.0</td>\n",
       "      <td>27.5</td>\n",
       "      <td>10.606602</td>\n",
       "      <td>20.0</td>\n",
       "      <td>23.75</td>\n",
       "      <td>27.5</td>\n",
       "      <td>31.25</td>\n",
       "      <td>35.0</td>\n",
       "    </tr>\n",
       "    <tr>\n",
       "      <th>G3</th>\n",
       "      <td>2.0</td>\n",
       "      <td>287.5</td>\n",
       "      <td>300.520382</td>\n",
       "      <td>75.0</td>\n",
       "      <td>181.25</td>\n",
       "      <td>287.5</td>\n",
       "      <td>393.75</td>\n",
       "      <td>500.0</td>\n",
       "    </tr>\n",
       "  </tbody>\n",
       "</table>\n",
       "</div>"
      ],
      "text/plain": [
       "       Books                                                       \n",
       "       count   mean         std   min     25%    50%     75%    max\n",
       "Groups                                                             \n",
       "G1       2.0   65.0   49.497475  30.0   47.50   65.0   82.50  100.0\n",
       "G2       2.0   27.5   10.606602  20.0   23.75   27.5   31.25   35.0\n",
       "G3       2.0  287.5  300.520382  75.0  181.25  287.5  393.75  500.0"
      ]
     },
     "execution_count": 75,
     "metadata": {},
     "output_type": "execute_result"
    }
   ],
   "source": [
    "df.groupby('Groups').describe() # You can use .transpose() for change "
   ]
  },
  {
   "cell_type": "code",
   "execution_count": 78,
   "id": "fedcd603",
   "metadata": {},
   "outputs": [
    {
     "data": {
      "text/plain": [
       "Books  count      2.000000\n",
       "       mean     287.500000\n",
       "       std      300.520382\n",
       "       min       75.000000\n",
       "       25%      181.250000\n",
       "       50%      287.500000\n",
       "       75%      393.750000\n",
       "       max      500.000000\n",
       "Name: G3, dtype: float64"
      ]
     },
     "execution_count": 78,
     "metadata": {},
     "output_type": "execute_result"
    }
   ],
   "source": [
    "df.groupby('Groups').describe().transpose()['G3']"
   ]
  },
  {
   "cell_type": "code",
   "execution_count": null,
   "id": "d0cdb569",
   "metadata": {},
   "outputs": [],
   "source": []
  }
 ],
 "metadata": {
  "kernelspec": {
   "display_name": "base",
   "language": "python",
   "name": "python3"
  },
  "language_info": {
   "codemirror_mode": {
    "name": "ipython",
    "version": 3
   },
   "file_extension": ".py",
   "mimetype": "text/x-python",
   "name": "python",
   "nbconvert_exporter": "python",
   "pygments_lexer": "ipython3",
   "version": "3.12.4"
  }
 },
 "nbformat": 4,
 "nbformat_minor": 5
}
