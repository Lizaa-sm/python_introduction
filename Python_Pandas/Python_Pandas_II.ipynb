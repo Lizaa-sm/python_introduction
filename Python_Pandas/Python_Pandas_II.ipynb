{
 "cells": [
  {
   "cell_type": "markdown",
   "id": "6d450620",
   "metadata": {},
   "source": [
    "## **Pandas Library**"
   ]
  },
  {
   "cell_type": "markdown",
   "id": "d38c51fe",
   "metadata": {},
   "source": [
    "* **DataFrames: Introduction**"
   ]
  },
  {
   "cell_type": "code",
   "execution_count": 48,
   "id": "580848bb",
   "metadata": {},
   "outputs": [],
   "source": [
    "import numpy as np\n",
    "import pandas as pd\n"
   ]
  },
  {
   "cell_type": "code",
   "execution_count": 49,
   "id": "c5a3b7a0",
   "metadata": {},
   "outputs": [],
   "source": [
    "# Always remember to use \"from\" before and \"import\" after for numpy.random like randn\n",
    "from numpy.random import randn"
   ]
  },
  {
   "cell_type": "code",
   "execution_count": 50,
   "id": "e9b5102d",
   "metadata": {},
   "outputs": [],
   "source": [
    "# Creating a DataSet\n",
    "np.random.seed(101)"
   ]
  },
  {
   "cell_type": "code",
   "execution_count": null,
   "id": "ea3dfbf7",
   "metadata": {},
   "outputs": [
    {
     "name": "stdout",
     "output_type": "stream",
     "text": [
      "         C1        C2        C3        C4\n",
      "A  2.706850  0.628133  0.907969  0.503826\n",
      "B  0.651118 -0.319318 -0.848077  0.605965\n",
      "C -2.018168  0.740122  0.528813 -0.589001\n",
      "D  0.188695 -0.758872 -0.933237  0.955057\n",
      "E  0.190794  1.978757  2.605967  0.683509\n"
     ]
    }
   ],
   "source": [
    "# df = dataframe, creating the table\n",
    "df = pd.DataFrame(randn(5,4),['LA','LB','LC','LD','LE'],['C1','C2','C3','C4'])\n",
    "\n",
    "print(df)"
   ]
  }
 ],
 "metadata": {
  "kernelspec": {
   "display_name": "base",
   "language": "python",
   "name": "python3"
  },
  "language_info": {
   "codemirror_mode": {
    "name": "ipython",
    "version": 3
   },
   "file_extension": ".py",
   "mimetype": "text/x-python",
   "name": "python",
   "nbconvert_exporter": "python",
   "pygments_lexer": "ipython3",
   "version": "3.12.4"
  }
 },
 "nbformat": 4,
 "nbformat_minor": 5
}
