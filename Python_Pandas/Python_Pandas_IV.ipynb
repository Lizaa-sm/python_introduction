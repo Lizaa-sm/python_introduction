{
 "cells": [
  {
   "cell_type": "markdown",
   "id": "973a4cb7",
   "metadata": {},
   "source": [
    "## **Pandas Library - Continuation**\n",
    "\n"
   ]
  },
  {
   "cell_type": "code",
   "execution_count": 14,
   "id": "7775b7fb",
   "metadata": {},
   "outputs": [],
   "source": [
    "import numpy as np\n",
    "import pandas as pd\n",
    "from numpy.random import randn"
   ]
  },
  {
   "cell_type": "markdown",
   "id": "1be795f6",
   "metadata": {},
   "source": [
    "* **Building a data structure**"
   ]
  },
  {
   "cell_type": "markdown",
   "id": "161355df",
   "metadata": {},
   "source": [
    "Thw `MultiIndex` is a code that joins two lists in pairs and transforms them into a hierarchical index (MultiIndex) in pandas."
   ]
  },
  {
   "cell_type": "code",
   "execution_count": 30,
   "id": "31e0d9fa",
   "metadata": {},
   "outputs": [],
   "source": [
    "outs = ['p1', 'p1', 'p1', 'p2', 'p2','p2']\n",
    "incs = [1, 2, 3, 1, 2, 3]\n",
    "index = list(zip(outs, incs))  # [('p1', 1), ('p1', 2), ('p1', 3), ('p2', 1), ('p2', 2), ('p2', 3)]\n",
    "index = pd.MultiIndex.from_tuples(index)"
   ]
  },
  {
   "cell_type": "code",
   "execution_count": 31,
   "id": "6396fd5d",
   "metadata": {},
   "outputs": [
    {
     "data": {
      "text/plain": [
       "MultiIndex([('p1', 1),\n",
       "            ('p1', 2),\n",
       "            ('p1', 3),\n",
       "            ('p2', 1),\n",
       "            ('p2', 2),\n",
       "            ('p2', 3)],\n",
       "           )"
      ]
     },
     "execution_count": 31,
     "metadata": {},
     "output_type": "execute_result"
    }
   ],
   "source": [
    "index"
   ]
  },
  {
   "cell_type": "code",
   "execution_count": 33,
   "id": "dcbf3bf0",
   "metadata": {},
   "outputs": [
    {
     "data": {
      "text/html": [
       "<div>\n",
       "<style scoped>\n",
       "    .dataframe tbody tr th:only-of-type {\n",
       "        vertical-align: middle;\n",
       "    }\n",
       "\n",
       "    .dataframe tbody tr th {\n",
       "        vertical-align: top;\n",
       "    }\n",
       "\n",
       "    .dataframe thead th {\n",
       "        text-align: right;\n",
       "    }\n",
       "</style>\n",
       "<table border=\"1\" class=\"dataframe\">\n",
       "  <thead>\n",
       "    <tr style=\"text-align: right;\">\n",
       "      <th></th>\n",
       "      <th></th>\n",
       "      <th>Z</th>\n",
       "      <th>Y</th>\n",
       "    </tr>\n",
       "  </thead>\n",
       "  <tbody>\n",
       "    <tr>\n",
       "      <th rowspan=\"3\" valign=\"top\">p1</th>\n",
       "      <th>1</th>\n",
       "      <td>-0.025870</td>\n",
       "      <td>0.615694</td>\n",
       "    </tr>\n",
       "    <tr>\n",
       "      <th>2</th>\n",
       "      <td>1.266278</td>\n",
       "      <td>-0.628414</td>\n",
       "    </tr>\n",
       "    <tr>\n",
       "      <th>3</th>\n",
       "      <td>0.468007</td>\n",
       "      <td>0.241864</td>\n",
       "    </tr>\n",
       "    <tr>\n",
       "      <th rowspan=\"3\" valign=\"top\">p2</th>\n",
       "      <th>1</th>\n",
       "      <td>-0.743729</td>\n",
       "      <td>-0.183771</td>\n",
       "    </tr>\n",
       "    <tr>\n",
       "      <th>2</th>\n",
       "      <td>0.248350</td>\n",
       "      <td>0.862016</td>\n",
       "    </tr>\n",
       "    <tr>\n",
       "      <th>3</th>\n",
       "      <td>-1.044059</td>\n",
       "      <td>0.608146</td>\n",
       "    </tr>\n",
       "  </tbody>\n",
       "</table>\n",
       "</div>"
      ],
      "text/plain": [
       "             Z         Y\n",
       "p1 1 -0.025870  0.615694\n",
       "   2  1.266278 -0.628414\n",
       "   3  0.468007  0.241864\n",
       "p2 1 -0.743729 -0.183771\n",
       "   2  0.248350  0.862016\n",
       "   3 -1.044059  0.608146"
      ]
     },
     "execution_count": 33,
     "metadata": {},
     "output_type": "execute_result"
    }
   ],
   "source": [
    "df = pd.DataFrame(randn(6,2), index,['Z','Y'])\n",
    "df\n"
   ]
  },
  {
   "cell_type": "code",
   "execution_count": null,
   "id": "2145a8ac",
   "metadata": {},
   "outputs": [
    {
     "data": {
      "text/plain": [
       "Z    0.468007\n",
       "Y    0.241864\n",
       "Name: 3, dtype: float64"
      ]
     },
     "execution_count": 44,
     "metadata": {},
     "output_type": "execute_result"
    }
   ],
   "source": [
    "# To Locate\n",
    "df.loc['p1'].loc[3]"
   ]
  },
  {
   "cell_type": "code",
   "execution_count": 48,
   "id": "5942222d",
   "metadata": {},
   "outputs": [
    {
     "data": {
      "text/html": [
       "<div>\n",
       "<style scoped>\n",
       "    .dataframe tbody tr th:only-of-type {\n",
       "        vertical-align: middle;\n",
       "    }\n",
       "\n",
       "    .dataframe tbody tr th {\n",
       "        vertical-align: top;\n",
       "    }\n",
       "\n",
       "    .dataframe thead th {\n",
       "        text-align: right;\n",
       "    }\n",
       "</style>\n",
       "<table border=\"1\" class=\"dataframe\">\n",
       "  <thead>\n",
       "    <tr style=\"text-align: right;\">\n",
       "      <th></th>\n",
       "      <th></th>\n",
       "      <th>Z</th>\n",
       "      <th>Y</th>\n",
       "    </tr>\n",
       "    <tr>\n",
       "      <th>Groups</th>\n",
       "      <th>List</th>\n",
       "      <th></th>\n",
       "      <th></th>\n",
       "    </tr>\n",
       "  </thead>\n",
       "  <tbody>\n",
       "    <tr>\n",
       "      <th rowspan=\"3\" valign=\"top\">p1</th>\n",
       "      <th>1</th>\n",
       "      <td>-0.025870</td>\n",
       "      <td>0.615694</td>\n",
       "    </tr>\n",
       "    <tr>\n",
       "      <th>2</th>\n",
       "      <td>1.266278</td>\n",
       "      <td>-0.628414</td>\n",
       "    </tr>\n",
       "    <tr>\n",
       "      <th>3</th>\n",
       "      <td>0.468007</td>\n",
       "      <td>0.241864</td>\n",
       "    </tr>\n",
       "    <tr>\n",
       "      <th rowspan=\"3\" valign=\"top\">p2</th>\n",
       "      <th>1</th>\n",
       "      <td>-0.743729</td>\n",
       "      <td>-0.183771</td>\n",
       "    </tr>\n",
       "    <tr>\n",
       "      <th>2</th>\n",
       "      <td>0.248350</td>\n",
       "      <td>0.862016</td>\n",
       "    </tr>\n",
       "    <tr>\n",
       "      <th>3</th>\n",
       "      <td>-1.044059</td>\n",
       "      <td>0.608146</td>\n",
       "    </tr>\n",
       "  </tbody>\n",
       "</table>\n",
       "</div>"
      ],
      "text/plain": [
       "                    Z         Y\n",
       "Groups List                    \n",
       "p1     1    -0.025870  0.615694\n",
       "       2     1.266278 -0.628414\n",
       "       3     0.468007  0.241864\n",
       "p2     1    -0.743729 -0.183771\n",
       "       2     0.248350  0.862016\n",
       "       3    -1.044059  0.608146"
      ]
     },
     "execution_count": 48,
     "metadata": {},
     "output_type": "execute_result"
    }
   ],
   "source": [
    "df.index.names = ['Groups', 'List']\n",
    "df"
   ]
  },
  {
   "cell_type": "code",
   "execution_count": 49,
   "id": "958a45af",
   "metadata": {},
   "outputs": [
    {
     "data": {
      "text/html": [
       "<div>\n",
       "<style scoped>\n",
       "    .dataframe tbody tr th:only-of-type {\n",
       "        vertical-align: middle;\n",
       "    }\n",
       "\n",
       "    .dataframe tbody tr th {\n",
       "        vertical-align: top;\n",
       "    }\n",
       "\n",
       "    .dataframe thead th {\n",
       "        text-align: right;\n",
       "    }\n",
       "</style>\n",
       "<table border=\"1\" class=\"dataframe\">\n",
       "  <thead>\n",
       "    <tr style=\"text-align: right;\">\n",
       "      <th></th>\n",
       "      <th>Z</th>\n",
       "      <th>Y</th>\n",
       "    </tr>\n",
       "    <tr>\n",
       "      <th>List</th>\n",
       "      <th></th>\n",
       "      <th></th>\n",
       "    </tr>\n",
       "  </thead>\n",
       "  <tbody>\n",
       "    <tr>\n",
       "      <th>1</th>\n",
       "      <td>-0.025870</td>\n",
       "      <td>0.615694</td>\n",
       "    </tr>\n",
       "    <tr>\n",
       "      <th>2</th>\n",
       "      <td>1.266278</td>\n",
       "      <td>-0.628414</td>\n",
       "    </tr>\n",
       "    <tr>\n",
       "      <th>3</th>\n",
       "      <td>0.468007</td>\n",
       "      <td>0.241864</td>\n",
       "    </tr>\n",
       "  </tbody>\n",
       "</table>\n",
       "</div>"
      ],
      "text/plain": [
       "             Z         Y\n",
       "List                    \n",
       "1    -0.025870  0.615694\n",
       "2     1.266278 -0.628414\n",
       "3     0.468007  0.241864"
      ]
     },
     "execution_count": 49,
     "metadata": {},
     "output_type": "execute_result"
    }
   ],
   "source": [
    "df.loc['p1']"
   ]
  },
  {
   "cell_type": "code",
   "execution_count": 51,
   "id": "9f7b381e",
   "metadata": {},
   "outputs": [
    {
     "data": {
      "text/html": [
       "<div>\n",
       "<style scoped>\n",
       "    .dataframe tbody tr th:only-of-type {\n",
       "        vertical-align: middle;\n",
       "    }\n",
       "\n",
       "    .dataframe tbody tr th {\n",
       "        vertical-align: top;\n",
       "    }\n",
       "\n",
       "    .dataframe thead th {\n",
       "        text-align: right;\n",
       "    }\n",
       "</style>\n",
       "<table border=\"1\" class=\"dataframe\">\n",
       "  <thead>\n",
       "    <tr style=\"text-align: right;\">\n",
       "      <th></th>\n",
       "      <th>Z</th>\n",
       "      <th>Y</th>\n",
       "    </tr>\n",
       "    <tr>\n",
       "      <th>List</th>\n",
       "      <th></th>\n",
       "      <th></th>\n",
       "    </tr>\n",
       "  </thead>\n",
       "  <tbody>\n",
       "    <tr>\n",
       "      <th>1</th>\n",
       "      <td>-0.743729</td>\n",
       "      <td>-0.183771</td>\n",
       "    </tr>\n",
       "    <tr>\n",
       "      <th>2</th>\n",
       "      <td>0.248350</td>\n",
       "      <td>0.862016</td>\n",
       "    </tr>\n",
       "    <tr>\n",
       "      <th>3</th>\n",
       "      <td>-1.044059</td>\n",
       "      <td>0.608146</td>\n",
       "    </tr>\n",
       "  </tbody>\n",
       "</table>\n",
       "</div>"
      ],
      "text/plain": [
       "             Z         Y\n",
       "List                    \n",
       "1    -0.743729 -0.183771\n",
       "2     0.248350  0.862016\n",
       "3    -1.044059  0.608146"
      ]
     },
     "execution_count": 51,
     "metadata": {},
     "output_type": "execute_result"
    }
   ],
   "source": [
    "df.loc['p2']"
   ]
  },
  {
   "cell_type": "code",
   "execution_count": 52,
   "id": "ed0eaca9",
   "metadata": {},
   "outputs": [
    {
     "data": {
      "text/plain": [
       "Z    0.248350\n",
       "Y    0.862016\n",
       "Name: 2, dtype: float64"
      ]
     },
     "execution_count": 52,
     "metadata": {},
     "output_type": "execute_result"
    }
   ],
   "source": [
    "df.loc['p2'].loc[2]"
   ]
  },
  {
   "cell_type": "code",
   "execution_count": 53,
   "id": "7535ef70",
   "metadata": {},
   "outputs": [
    {
     "data": {
      "text/html": [
       "<div>\n",
       "<style scoped>\n",
       "    .dataframe tbody tr th:only-of-type {\n",
       "        vertical-align: middle;\n",
       "    }\n",
       "\n",
       "    .dataframe tbody tr th {\n",
       "        vertical-align: top;\n",
       "    }\n",
       "\n",
       "    .dataframe thead th {\n",
       "        text-align: right;\n",
       "    }\n",
       "</style>\n",
       "<table border=\"1\" class=\"dataframe\">\n",
       "  <thead>\n",
       "    <tr style=\"text-align: right;\">\n",
       "      <th></th>\n",
       "      <th></th>\n",
       "      <th>Z</th>\n",
       "      <th>Y</th>\n",
       "    </tr>\n",
       "    <tr>\n",
       "      <th>Groups</th>\n",
       "      <th>List</th>\n",
       "      <th></th>\n",
       "      <th></th>\n",
       "    </tr>\n",
       "  </thead>\n",
       "  <tbody>\n",
       "    <tr>\n",
       "      <th rowspan=\"3\" valign=\"top\">p1</th>\n",
       "      <th>1</th>\n",
       "      <td>-0.025870</td>\n",
       "      <td>0.615694</td>\n",
       "    </tr>\n",
       "    <tr>\n",
       "      <th>2</th>\n",
       "      <td>1.266278</td>\n",
       "      <td>-0.628414</td>\n",
       "    </tr>\n",
       "    <tr>\n",
       "      <th>3</th>\n",
       "      <td>0.468007</td>\n",
       "      <td>0.241864</td>\n",
       "    </tr>\n",
       "    <tr>\n",
       "      <th rowspan=\"3\" valign=\"top\">p2</th>\n",
       "      <th>1</th>\n",
       "      <td>-0.743729</td>\n",
       "      <td>-0.183771</td>\n",
       "    </tr>\n",
       "    <tr>\n",
       "      <th>2</th>\n",
       "      <td>0.248350</td>\n",
       "      <td>0.862016</td>\n",
       "    </tr>\n",
       "    <tr>\n",
       "      <th>3</th>\n",
       "      <td>-1.044059</td>\n",
       "      <td>0.608146</td>\n",
       "    </tr>\n",
       "  </tbody>\n",
       "</table>\n",
       "</div>"
      ],
      "text/plain": [
       "                    Z         Y\n",
       "Groups List                    \n",
       "p1     1    -0.025870  0.615694\n",
       "       2     1.266278 -0.628414\n",
       "       3     0.468007  0.241864\n",
       "p2     1    -0.743729 -0.183771\n",
       "       2     0.248350  0.862016\n",
       "       3    -1.044059  0.608146"
      ]
     },
     "execution_count": 53,
     "metadata": {},
     "output_type": "execute_result"
    }
   ],
   "source": [
    "df"
   ]
  },
  {
   "cell_type": "markdown",
   "id": "bff5690d",
   "metadata": {},
   "source": [
    "*  **`df.xs()`(cross section):** is used in pandas to select data from a specific level of a MultiIndex.\n",
    "It lets you quickly \"slice\" rows or columns based on index values. For example: `df.xs('p1', level='letter')` selects all rows where the index at level **\"letter\" equals \"p1\"**."
   ]
  },
  {
   "cell_type": "code",
   "execution_count": 55,
   "id": "554f4583",
   "metadata": {},
   "outputs": [
    {
     "data": {
      "text/plain": [
       "<bound method NDFrame.xs of                     Z         Y\n",
       "Groups List                    \n",
       "p1     1    -0.025870  0.615694\n",
       "       2     1.266278 -0.628414\n",
       "       3     0.468007  0.241864\n",
       "p2     1    -0.743729 -0.183771\n",
       "       2     0.248350  0.862016\n",
       "       3    -1.044059  0.608146>"
      ]
     },
     "execution_count": 55,
     "metadata": {},
     "output_type": "execute_result"
    }
   ],
   "source": [
    "# Another function: df.xs \"cross section\"\n",
    "df.xs"
   ]
  },
  {
   "cell_type": "code",
   "execution_count": 58,
   "id": "44365563",
   "metadata": {},
   "outputs": [
    {
     "data": {
      "text/html": [
       "<div>\n",
       "<style scoped>\n",
       "    .dataframe tbody tr th:only-of-type {\n",
       "        vertical-align: middle;\n",
       "    }\n",
       "\n",
       "    .dataframe tbody tr th {\n",
       "        vertical-align: top;\n",
       "    }\n",
       "\n",
       "    .dataframe thead th {\n",
       "        text-align: right;\n",
       "    }\n",
       "</style>\n",
       "<table border=\"1\" class=\"dataframe\">\n",
       "  <thead>\n",
       "    <tr style=\"text-align: right;\">\n",
       "      <th></th>\n",
       "      <th>Z</th>\n",
       "      <th>Y</th>\n",
       "    </tr>\n",
       "    <tr>\n",
       "      <th>List</th>\n",
       "      <th></th>\n",
       "      <th></th>\n",
       "    </tr>\n",
       "  </thead>\n",
       "  <tbody>\n",
       "    <tr>\n",
       "      <th>1</th>\n",
       "      <td>-0.025870</td>\n",
       "      <td>0.615694</td>\n",
       "    </tr>\n",
       "    <tr>\n",
       "      <th>2</th>\n",
       "      <td>1.266278</td>\n",
       "      <td>-0.628414</td>\n",
       "    </tr>\n",
       "    <tr>\n",
       "      <th>3</th>\n",
       "      <td>0.468007</td>\n",
       "      <td>0.241864</td>\n",
       "    </tr>\n",
       "  </tbody>\n",
       "</table>\n",
       "</div>"
      ],
      "text/plain": [
       "             Z         Y\n",
       "List                    \n",
       "1    -0.025870  0.615694\n",
       "2     1.266278 -0.628414\n",
       "3     0.468007  0.241864"
      ]
     },
     "execution_count": 58,
     "metadata": {},
     "output_type": "execute_result"
    }
   ],
   "source": [
    "df.xs('p1')"
   ]
  },
  {
   "cell_type": "code",
   "execution_count": 61,
   "id": "9ff31a61",
   "metadata": {},
   "outputs": [
    {
     "data": {
      "text/html": [
       "<div>\n",
       "<style scoped>\n",
       "    .dataframe tbody tr th:only-of-type {\n",
       "        vertical-align: middle;\n",
       "    }\n",
       "\n",
       "    .dataframe tbody tr th {\n",
       "        vertical-align: top;\n",
       "    }\n",
       "\n",
       "    .dataframe thead th {\n",
       "        text-align: right;\n",
       "    }\n",
       "</style>\n",
       "<table border=\"1\" class=\"dataframe\">\n",
       "  <thead>\n",
       "    <tr style=\"text-align: right;\">\n",
       "      <th></th>\n",
       "      <th></th>\n",
       "      <th>Z</th>\n",
       "      <th>Y</th>\n",
       "    </tr>\n",
       "    <tr>\n",
       "      <th>Groups</th>\n",
       "      <th>Num</th>\n",
       "      <th></th>\n",
       "      <th></th>\n",
       "    </tr>\n",
       "  </thead>\n",
       "  <tbody>\n",
       "    <tr>\n",
       "      <th rowspan=\"3\" valign=\"top\">p1</th>\n",
       "      <th>1</th>\n",
       "      <td>-0.025870</td>\n",
       "      <td>0.615694</td>\n",
       "    </tr>\n",
       "    <tr>\n",
       "      <th>2</th>\n",
       "      <td>1.266278</td>\n",
       "      <td>-0.628414</td>\n",
       "    </tr>\n",
       "    <tr>\n",
       "      <th>3</th>\n",
       "      <td>0.468007</td>\n",
       "      <td>0.241864</td>\n",
       "    </tr>\n",
       "    <tr>\n",
       "      <th rowspan=\"3\" valign=\"top\">p2</th>\n",
       "      <th>1</th>\n",
       "      <td>-0.743729</td>\n",
       "      <td>-0.183771</td>\n",
       "    </tr>\n",
       "    <tr>\n",
       "      <th>2</th>\n",
       "      <td>0.248350</td>\n",
       "      <td>0.862016</td>\n",
       "    </tr>\n",
       "    <tr>\n",
       "      <th>3</th>\n",
       "      <td>-1.044059</td>\n",
       "      <td>0.608146</td>\n",
       "    </tr>\n",
       "  </tbody>\n",
       "</table>\n",
       "</div>"
      ],
      "text/plain": [
       "                   Z         Y\n",
       "Groups Num                    \n",
       "p1     1   -0.025870  0.615694\n",
       "       2    1.266278 -0.628414\n",
       "       3    0.468007  0.241864\n",
       "p2     1   -0.743729 -0.183771\n",
       "       2    0.248350  0.862016\n",
       "       3   -1.044059  0.608146"
      ]
     },
     "execution_count": 61,
     "metadata": {},
     "output_type": "execute_result"
    }
   ],
   "source": [
    "df.index.names = ['Groups', 'Num']\n",
    "df"
   ]
  },
  {
   "cell_type": "code",
   "execution_count": 62,
   "id": "7c0fec7a",
   "metadata": {},
   "outputs": [
    {
     "data": {
      "text/html": [
       "<div>\n",
       "<style scoped>\n",
       "    .dataframe tbody tr th:only-of-type {\n",
       "        vertical-align: middle;\n",
       "    }\n",
       "\n",
       "    .dataframe tbody tr th {\n",
       "        vertical-align: top;\n",
       "    }\n",
       "\n",
       "    .dataframe thead th {\n",
       "        text-align: right;\n",
       "    }\n",
       "</style>\n",
       "<table border=\"1\" class=\"dataframe\">\n",
       "  <thead>\n",
       "    <tr style=\"text-align: right;\">\n",
       "      <th></th>\n",
       "      <th>Z</th>\n",
       "      <th>Y</th>\n",
       "    </tr>\n",
       "    <tr>\n",
       "      <th>Groups</th>\n",
       "      <th></th>\n",
       "      <th></th>\n",
       "    </tr>\n",
       "  </thead>\n",
       "  <tbody>\n",
       "    <tr>\n",
       "      <th>p1</th>\n",
       "      <td>-0.025870</td>\n",
       "      <td>0.615694</td>\n",
       "    </tr>\n",
       "    <tr>\n",
       "      <th>p2</th>\n",
       "      <td>-0.743729</td>\n",
       "      <td>-0.183771</td>\n",
       "    </tr>\n",
       "  </tbody>\n",
       "</table>\n",
       "</div>"
      ],
      "text/plain": [
       "               Z         Y\n",
       "Groups                    \n",
       "p1     -0.025870  0.615694\n",
       "p2     -0.743729 -0.183771"
      ]
     },
     "execution_count": 62,
     "metadata": {},
     "output_type": "execute_result"
    }
   ],
   "source": [
    "df.xs(1,level='Num')"
   ]
  }
 ],
 "metadata": {
  "kernelspec": {
   "display_name": "base",
   "language": "python",
   "name": "python3"
  },
  "language_info": {
   "codemirror_mode": {
    "name": "ipython",
    "version": 3
   },
   "file_extension": ".py",
   "mimetype": "text/x-python",
   "name": "python",
   "nbconvert_exporter": "python",
   "pygments_lexer": "ipython3",
   "version": "3.12.4"
  }
 },
 "nbformat": 4,
 "nbformat_minor": 5
}
