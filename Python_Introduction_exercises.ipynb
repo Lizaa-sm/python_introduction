{
 "cells": [
  {
   "cell_type": "markdown",
   "id": "00a1ab2f",
   "metadata": {},
   "source": [
    "# Python Basics\n",
    "\n",
    "* Exercises in Python based on previous tutorials."
   ]
  },
  {
   "cell_type": "markdown",
   "id": "3e2e19fe",
   "metadata": {},
   "source": [
    "-> Question 1: What is 5 to the power of 4?"
   ]
  },
  {
   "cell_type": "code",
   "execution_count": null,
   "id": "90bcfa77",
   "metadata": {},
   "outputs": [],
   "source": [
    "w = 5 ** 4\n",
    "\n",
    "print(w)"
   ]
  },
  {
   "cell_type": "markdown",
   "id": "73acf7d6",
   "metadata": {},
   "source": [
    "-> Question 2: What is 20 divided by 4?"
   ]
  },
  {
   "cell_type": "code",
   "execution_count": null,
   "id": "498e5b7f",
   "metadata": {},
   "outputs": [],
   "source": [
    "a = 20 / 4\n",
    "print(a)"
   ]
  },
  {
   "cell_type": "markdown",
   "id": "0e04fdc0",
   "metadata": {},
   "source": [
    "-> Question 3: What is remainder of the division between 20 divided by 3? And 5 divided by 2? And 2 divided by 1?"
   ]
  },
  {
   "cell_type": "code",
   "execution_count": null,
   "id": "eca625f0",
   "metadata": {},
   "outputs": [],
   "source": [
    "b = 20 % 3 # Remainder of the division\n",
    "c = 5 % 2 \n",
    "d = 2 % 1\n",
    "print(b)  \n",
    "print(c)\n",
    "print(d)"
   ]
  },
  {
   "cell_type": "markdown",
   "id": "d2c1b3ef",
   "metadata": {},
   "source": [
    "-> Question 4: Split this string \"Hello Jay!\" into a list. "
   ]
  },
  {
   "cell_type": "code",
   "execution_count": null,
   "id": "1215435e",
   "metadata": {},
   "outputs": [],
   "source": [
    "e = \"Hello Jay!\"\n",
    "e.split()"
   ]
  },
  {
   "cell_type": "markdown",
   "id": "f51f9b87",
   "metadata": {},
   "source": [
    "-> Question 5: Given the variables \"Natural Satellite = 'Moon'; Diameter = '34748'\" use ´.format()´ to print the following string."
   ]
  },
  {
   "cell_type": "code",
   "execution_count": null,
   "id": "0cd98e10",
   "metadata": {},
   "outputs": [],
   "source": [
    "f = \"Natural Satellite = 'Moon'; Diameter = '34748'\"\n",
    "print(\"The {} has a diameter of {} km.\".format('Moon', '34748'))"
   ]
  },
  {
   "cell_type": "markdown",
   "id": "55ab9993",
   "metadata": {},
   "source": []
  }
 ],
 "metadata": {
  "kernelspec": {
   "display_name": "ambiente-teste-1",
   "language": "python",
   "name": "python3"
  },
  "language_info": {
   "codemirror_mode": {
    "name": "ipython",
    "version": 3
   },
   "file_extension": ".py",
   "mimetype": "text/x-python",
   "name": "python",
   "nbconvert_exporter": "python",
   "pygments_lexer": "ipython3",
   "version": "3.12.4"
  }
 },
 "nbformat": 4,
 "nbformat_minor": 5
}
