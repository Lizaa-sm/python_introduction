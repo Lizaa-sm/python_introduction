{
 "cells": [
  {
   "cell_type": "markdown",
   "id": "00a1ab2f",
   "metadata": {},
   "source": [
    "# Python Basics\n",
    "\n",
    "* Exercises in Python based on previous tutorials."
   ]
  },
  {
   "cell_type": "markdown",
   "id": "3e2e19fe",
   "metadata": {},
   "source": [
    "-> Question 1: What is 5 to the power of 4?"
   ]
  },
  {
   "cell_type": "code",
   "execution_count": null,
   "id": "90bcfa77",
   "metadata": {},
   "outputs": [],
   "source": [
    "w = 5 ** 4\n",
    "\n",
    "print(w)"
   ]
  },
  {
   "cell_type": "markdown",
   "id": "73acf7d6",
   "metadata": {},
   "source": [
    "-> Question 2: What is 20 divided by 4?"
   ]
  },
  {
   "cell_type": "code",
   "execution_count": null,
   "id": "498e5b7f",
   "metadata": {},
   "outputs": [],
   "source": [
    "a = 20 / 4\n",
    "print(a)"
   ]
  },
  {
   "cell_type": "markdown",
   "id": "0e04fdc0",
   "metadata": {},
   "source": [
    "-> Question 3: What is remainder of the division between 20 divided by 3? And 5 divided by 2? And 2 divided by 1?"
   ]
  },
  {
   "cell_type": "code",
   "execution_count": null,
   "id": "eca625f0",
   "metadata": {},
   "outputs": [],
   "source": [
    "b = 20 % 3 # Remainder of the division\n",
    "c = 5 % 2 \n",
    "d = 2 % 1\n",
    "print(b)  \n",
    "print(c)\n",
    "print(d)"
   ]
  },
  {
   "cell_type": "markdown",
   "id": "d2c1b3ef",
   "metadata": {},
   "source": [
    "-> Question 4: Split this string \"Hello Jay!\" into a list. "
   ]
  },
  {
   "cell_type": "code",
   "execution_count": null,
   "id": "1215435e",
   "metadata": {},
   "outputs": [],
   "source": [
    "e = \"Hello Jay!\"\n",
    "e.split()"
   ]
  },
  {
   "cell_type": "markdown",
   "id": "f51f9b87",
   "metadata": {},
   "source": [
    "-> Question 5: Given the variables \"Natural Satellite = 'Moon'; Diameter = '34748'\" use ´.format()´ to print the following string."
   ]
  },
  {
   "cell_type": "code",
   "execution_count": null,
   "id": "0cd98e10",
   "metadata": {},
   "outputs": [],
   "source": [
    "f = \"Natural Satellite = 'Moon'; Diameter = '34748'\"\n",
    "print(\"The {} has a diameter of {} kilometers.\".format('Moon', '34748'))"
   ]
  },
  {
   "cell_type": "markdown",
   "id": "55ab9993",
   "metadata": {},
   "source": [
    "-> Question 6: Given this nested list, use indexing to grab the word \"WORLD\" \"[1,2,[3,4],[5,[100,200,['WORLD']],23,11],1,7]\""
   ]
  },
  {
   "cell_type": "code",
   "execution_count": null,
   "id": "02bb286a",
   "metadata": {},
   "outputs": [],
   "source": [
    "list1 = [1,2,[3,4],[5,[100,200,['WORLD']],23,11],1,7]\n",
    "list1[3][1][2][0]"
   ]
  },
  {
   "cell_type": "markdown",
   "id": "e6777405",
   "metadata": {},
   "source": [
    "-> Question 7: Given this nest dictionary grab the word \"Giraffe\"."
   ]
  },
  {
   "cell_type": "code",
   "execution_count": null,
   "id": "edbd188b",
   "metadata": {},
   "outputs": [],
   "source": [
    "dict1 = {'k1':[1,2,3,{'k2':['oh',' my','God',{'k3':[1,2,3,'Giraffe']}]}]}\n",
    "dict1['k1'][3]['k2'][3]['k3'][3]"
   ]
  },
  {
   "cell_type": "markdown",
   "id": "c65c66b1",
   "metadata": {},
   "source": [
    "-> Question 8: Create a function that grabs the email website domain from a string in the form: \\\"user@domain.com\\\". So for example, passing \\\"user@domain.com\\\" would return: \"domain.com\""
   ]
  },
  {
   "cell_type": "code",
   "execution_count": null,
   "id": "3bb75e39",
   "metadata": {},
   "outputs": [],
   "source": [
    "def domain(email):\n",
    "    return email.split('@')[1]\n",
    "\n",
    "eml = domain('user@domain.com')\n",
    "print(eml)"
   ]
  },
  {
   "cell_type": "markdown",
   "id": "716eeb39",
   "metadata": {},
   "source": [
    "-> Question 9: Create a basic function that returns True if the word 'dog' is contained in the input string."
   ]
  },
  {
   "cell_type": "code",
   "execution_count": null,
   "id": "49801b95",
   "metadata": {},
   "outputs": [],
   "source": [
    "def find_dog(string): \n",
    "    return \"dog\" in string.lower().split()\n",
    "dg = find_dog(\"It is a dog here.\")\n",
    "print(dg)"
   ]
  },
  {
   "cell_type": "markdown",
   "id": "18f339c2",
   "metadata": {},
   "source": [
    "-> Question 10:  Create a function that counts the number of times the word \\\"cat\\\" occurs in a string."
   ]
  },
  {
   "cell_type": "code",
   "execution_count": null,
   "id": "87212acb",
   "metadata": {},
   "outputs": [],
   "source": [
    "def find_cat(str):\n",
    "    return str.lower().split().count('cat')\n",
    "\n",
    "gt = find_cat(\"The cat is on the roof. Another cat is in the garden.\")\n",
    "\n",
    "print(gt)"
   ]
  },
  {
   "cell_type": "code",
   "execution_count": null,
   "id": "957a1b82",
   "metadata": {},
   "outputs": [],
   "source": [
    "# Another way to do it:\n",
    "def find_cat2(str):\n",
    "    count = 0  # create a counter\n",
    "    for word in str.lower().split():\n",
    "        if word == 'cat':\n",
    "            count += 1   # when we find cat, add to the counter\n",
    "    return count   # return the counter\n",
    "gt2 = find_cat2(\"The cat is on the roof. Another cat is in the garden.\")\n",
    "print(gt2)"
   ]
  },
  {
   "cell_type": "markdown",
   "id": "3b0a25c6",
   "metadata": {},
   "source": [
    "-> Question 11: Use ´lambda´ expressions and the ´filter()´ function to filter out words from a list that don't start with the letter 's'."
   ]
  },
  {
   "cell_type": "code",
   "execution_count": null,
   "id": "580c3905",
   "metadata": {},
   "outputs": [],
   "source": [
    "list2 = ['soup','dog','kindle','salad','cat','giraffe','great','surprise','happy','sad','start','bus']\n",
    "s_list = list(filter(lambda word: word[0].lower() == 's', list2))\n",
    "print(s_list)"
   ]
  },
  {
   "cell_type": "markdown",
   "id": "0625d5e0",
   "metadata": {},
   "source": [
    "# Challenge!"
   ]
  },
  {
   "cell_type": "markdown",
   "id": "232ea377",
   "metadata": {},
   "source": [
    "=> You are driving a little too fast, and a police officer stops you.\n",
    "Write a function that returns one of three possible results:\n",
    "* \"No Ticket\" → if your speed is 60 or less.\n",
    "* \"Small Ticket\" → if your speed is between 61 and 80 inclusive.\n",
    "* \"Big Ticket\" → if your speed is 81 or more.\n",
    "However, if it’s your birthday (given as a boolean parameter in the function), you are allowed to drive 5 mph faster in all cases.\n"
   ]
  },
  {
   "cell_type": "code",
   "execution_count": null,
   "id": "1743437e",
   "metadata": {},
   "outputs": [],
   "source": [
    "def drive_car(speed, birthday):\n",
    "\n",
    "    if birthday:\n",
    "        speed = speed - 5   \n",
    "    else:\n",
    "        speed = speed \n",
    "\n",
    "    if speed <= 60:\n",
    "        return \"No Ticket\"\n",
    "    elif 61 <= speed <= 80:\n",
    "        return \"Small Ticket\"\n",
    "    elif speed >= 81:\n",
    "        return \"Big Ticket\"\n",
    "\n",
    "vel1_car = drive_car(63, True)\n",
    "print (vel1_car)\n",
    "\n",
    "vel2_car = drive_car(36, False)\n",
    "print (vel2_car)                \n",
    "\n",
    "vel3_car = drive_car(79, True)\n",
    "print (vel3_car)    \n",
    "\n",
    "vel4_car = drive_car(85, False)\n",
    "print (vel4_car)\n",
    "    \n",
    "vel5_car = drive_car(84, True)\n",
    "print (vel5_car)\n",
    "\n"
   ]
  }
 ],
 "metadata": {
  "kernelspec": {
   "display_name": "ambiente-teste-1",
   "language": "python",
   "name": "python3"
  },
  "language_info": {
   "codemirror_mode": {
    "name": "ipython",
    "version": 3
   },
   "file_extension": ".py",
   "mimetype": "text/x-python",
   "name": "python",
   "nbconvert_exporter": "python",
   "pygments_lexer": "ipython3",
   "version": "3.12.4"
  }
 },
 "nbformat": 4,
 "nbformat_minor": 5
}
