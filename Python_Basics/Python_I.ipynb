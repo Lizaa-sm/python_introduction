{
 "cells": [
  {
   "cell_type": "markdown",
   "id": "519e0a66",
   "metadata": {},
   "source": [
    "## **Python Basics**\n",
    "\n",
    "This repository is a quick reference for basic Python operations, initial concepts, and small details that are easy to forget.  \n",
    "\n",
    "* **Arithmetic Operations**\n"
   ]
  },
  {
   "cell_type": "code",
   "execution_count": 1,
   "id": "b615caf6",
   "metadata": {},
   "outputs": [
    {
     "data": {
      "text/plain": [
       "2"
      ]
     },
     "execution_count": 1,
     "metadata": {},
     "output_type": "execute_result"
    }
   ],
   "source": [
    "# Addition (sum - integer)\n",
    "1 + 1"
   ]
  },
  {
   "cell_type": "code",
   "execution_count": 2,
   "id": "ce19ea16",
   "metadata": {},
   "outputs": [
    {
     "data": {
      "text/plain": [
       "2"
      ]
     },
     "execution_count": 2,
     "metadata": {},
     "output_type": "execute_result"
    }
   ],
   "source": [
    "# Subtraction (difference - integer)\n",
    "5 - 3"
   ]
  },
  {
   "cell_type": "code",
   "execution_count": 3,
   "id": "4e764a71",
   "metadata": {},
   "outputs": [
    {
     "data": {
      "text/plain": [
       "8"
      ]
     },
     "execution_count": 3,
     "metadata": {},
     "output_type": "execute_result"
    }
   ],
   "source": [
    "# Multiplication (product - integer)\n",
    "4 * 2"
   ]
  },
  {
   "cell_type": "code",
   "execution_count": 4,
   "id": "21457f47",
   "metadata": {},
   "outputs": [
    {
     "data": {
      "text/plain": [
       "2.0"
      ]
     },
     "execution_count": 4,
     "metadata": {},
     "output_type": "execute_result"
    }
   ],
   "source": [
    "# Division (quotient-float)\n",
    "8 / 4"
   ]
  },
  {
   "cell_type": "code",
   "execution_count": 5,
   "id": "d5f5f0e0",
   "metadata": {},
   "outputs": [
    {
     "data": {
      "text/plain": [
       "2"
      ]
     },
     "execution_count": 5,
     "metadata": {},
     "output_type": "execute_result"
    }
   ],
   "source": [
    "# Floor Division (quotient-integer)\n",
    "8 // 3"
   ]
  },
  {
   "cell_type": "code",
   "execution_count": 6,
   "id": "0cc0fb39",
   "metadata": {},
   "outputs": [
    {
     "data": {
      "text/plain": [
       "2"
      ]
     },
     "execution_count": 6,
     "metadata": {},
     "output_type": "execute_result"
    }
   ],
   "source": [
    "# Modulus (remainder of division - integer)\n",
    "8 % 3"
   ]
  },
  {
   "cell_type": "code",
   "execution_count": 7,
   "id": "84a878ba",
   "metadata": {},
   "outputs": [
    {
     "data": {
      "text/plain": [
       "16"
      ]
     },
     "execution_count": 7,
     "metadata": {},
     "output_type": "execute_result"
    }
   ],
   "source": [
    "# Exponentiation (power - integer)\n",
    "2 ** 4"
   ]
  },
  {
   "cell_type": "markdown",
   "id": "2e80ccd0",
   "metadata": {},
   "source": [
    "* **Assignment Operators**"
   ]
  },
  {
   "cell_type": "code",
   "execution_count": 8,
   "id": "8c5fed61",
   "metadata": {},
   "outputs": [
    {
     "data": {
      "text/plain": [
       "1.0"
      ]
     },
     "execution_count": 8,
     "metadata": {},
     "output_type": "execute_result"
    }
   ],
   "source": [
    "X = 2\n",
    "X += 3  # X = X + 3  (X = 2 + 3 = 5)\n",
    "X *= 2  # X = X * 2  (X = 5 * 2 = 10)\n",
    "X -= 4  # X = X - 4  (X = 10 - 4 = 6)\n",
    "X /= 2  # X = X / 2  (X = 6 / 2 = 3.0)\n",
    "X //= 2 # X = X // 2 (X = 3.0 // 2 = 1.0)\n",
    "X %= 2  # X = X % 2  (X = 1.0 % 2 = 1.0)\n",
    "X **= 3 # X = X ** 3 (X = 1.0 ** 3 = 1.0)\n",
    "X "
   ]
  },
  {
   "cell_type": "markdown",
   "id": "1ca626b5",
   "metadata": {},
   "source": [
    "* **Comparison Operators**"
   ]
  },
  {
   "cell_type": "code",
   "execution_count": 9,
   "id": "7835e20f",
   "metadata": {},
   "outputs": [
    {
     "data": {
      "text/plain": [
       "False"
      ]
     },
     "execution_count": 9,
     "metadata": {},
     "output_type": "execute_result"
    }
   ],
   "source": [
    "5 == 5   # True (equal)\n",
    "3 == 5   # False (equal)\n",
    "5 != 3   # True (not equal)\n",
    "3 != 3   # False (not equal)\n",
    "5 > 2    # True (greater than)\n",
    "2 > 5    # False (greater than)\n",
    "5 < 10   # True (less than)\n",
    "10 < 5   # False (less than)\n",
    "5 <= 5   # True (less than or equal to)\n",
    "5 >= 3   # True (greater than or equal to)\n",
    "3 >= 5   # False (greater than or equal to)"
   ]
  },
  {
   "cell_type": "markdown",
   "id": "290d62d5",
   "metadata": {},
   "source": [
    "* **Logical Operators**"
   ]
  },
  {
   "cell_type": "code",
   "execution_count": 10,
   "id": "ff58c917",
   "metadata": {},
   "outputs": [
    {
     "data": {
      "text/plain": [
       "False"
      ]
     },
     "execution_count": 10,
     "metadata": {},
     "output_type": "execute_result"
    }
   ],
   "source": [
    "True and False   # False (both need to be True)\n",
    "True or False    # True  (one needs to be True)\n",
    "not True         # False (negation)"
   ]
  },
  {
   "cell_type": "markdown",
   "id": "89b42537",
   "metadata": {},
   "source": [
    "* **Lists**"
   ]
  },
  {
   "cell_type": "code",
   "execution_count": 11,
   "id": "6ed8bfa5",
   "metadata": {},
   "outputs": [],
   "source": [
    "my_list = [1, 2, 3]"
   ]
  },
  {
   "cell_type": "code",
   "execution_count": 12,
   "id": "88500049",
   "metadata": {},
   "outputs": [],
   "source": [
    "my_list.append(4)  # Add an element to the end of the list"
   ]
  },
  {
   "cell_type": "code",
   "execution_count": 13,
   "id": "d57d22aa",
   "metadata": {},
   "outputs": [
    {
     "data": {
      "text/plain": [
       "[1, 2, 3, 4]"
      ]
     },
     "execution_count": 13,
     "metadata": {},
     "output_type": "execute_result"
    }
   ],
   "source": [
    "my_list"
   ]
  },
  {
   "cell_type": "code",
   "execution_count": 14,
   "id": "1b4eddbf",
   "metadata": {},
   "outputs": [
    {
     "data": {
      "text/plain": [
       "1"
      ]
     },
     "execution_count": 14,
     "metadata": {},
     "output_type": "execute_result"
    }
   ],
   "source": [
    "my_list[0] # Access the first element (index 0)"
   ]
  },
  {
   "cell_type": "code",
   "execution_count": 15,
   "id": "29ce993e",
   "metadata": {},
   "outputs": [
    {
     "data": {
      "text/plain": [
       "[2, 3]"
      ]
     },
     "execution_count": 15,
     "metadata": {},
     "output_type": "execute_result"
    }
   ],
   "source": [
    "my_list[1:3] # [2, 3] Access elements from index 1 to 2 (3 is excluded)"
   ]
  },
  {
   "cell_type": "code",
   "execution_count": 16,
   "id": "2c8a0e0f",
   "metadata": {},
   "outputs": [
    {
     "data": {
      "text/plain": [
       "[3, 4]"
      ]
     },
     "execution_count": 16,
     "metadata": {},
     "output_type": "execute_result"
    }
   ],
   "source": [
    "# You can put one list inside another list (nested lists)\n",
    "nested_list = [1, 2, [3, 4], 5, [6, 7]]\n",
    "nested_list[2]  # Access the nested list [3, 4] "
   ]
  },
  {
   "cell_type": "code",
   "execution_count": 17,
   "id": "9025bc2f",
   "metadata": {},
   "outputs": [
    {
     "data": {
      "text/plain": [
       "6"
      ]
     },
     "execution_count": 17,
     "metadata": {},
     "output_type": "execute_result"
    }
   ],
   "source": [
    "# You can acess elements inside the nested list\n",
    "nested_list[4][0]  # Access the first element of the nested list, which is 3"
   ]
  },
  {
   "cell_type": "markdown",
   "id": "e77b405e",
   "metadata": {},
   "source": [
    "* **String Formatting**"
   ]
  },
  {
   "cell_type": "code",
   "execution_count": 18,
   "id": "0807a377",
   "metadata": {},
   "outputs": [
    {
     "data": {
      "text/plain": [
       "'I am 23 years old and my name is Heitor.'"
      ]
     },
     "execution_count": 18,
     "metadata": {},
     "output_type": "execute_result"
    }
   ],
   "source": [
    "num = 23\n",
    "name = \"Heitor\"\n",
    "\n",
    "\"I am {} years old and my name is {}.\".format(num, name)"
   ]
  },
  {
   "cell_type": "code",
   "execution_count": 19,
   "id": "b24c9a0f",
   "metadata": {},
   "outputs": [
    {
     "data": {
      "text/plain": [
       "'I am 23 years old and my name is Heitor.'"
      ]
     },
     "execution_count": 19,
     "metadata": {},
     "output_type": "execute_result"
    }
   ],
   "source": [
    "# Another way to format strings: \n",
    "\"I am {A} years old and my name is {B}.\".format(A=num, B=name)"
   ]
  }
 ],
 "metadata": {
  "kernelspec": {
   "display_name": "base",
   "language": "python",
   "name": "python3"
  },
  "language_info": {
   "codemirror_mode": {
    "name": "ipython",
    "version": 3
   },
   "file_extension": ".py",
   "mimetype": "text/x-python",
   "name": "python",
   "nbconvert_exporter": "python",
   "pygments_lexer": "ipython3",
   "version": "3.12.4"
  }
 },
 "nbformat": 4,
 "nbformat_minor": 5
}
