{
 "cells": [
  {
   "cell_type": "markdown",
   "id": "650e4fec",
   "metadata": {},
   "source": [
    "## **Python Basics** \n",
    "\n",
    "Part III: This repository is a quick reference for basic Python operations, initial concepts, and small details that are easy to forget."
   ]
  },
  {
   "cell_type": "markdown",
   "id": "ab48a865",
   "metadata": {},
   "source": [
    "* **If Statement →** used for conditional statements (decisions)"
   ]
  },
  {
   "cell_type": "code",
   "execution_count": 1,
   "id": "838fb71e",
   "metadata": {},
   "outputs": [
    {
     "name": "stdout",
     "output_type": "stream",
     "text": [
      "Cool!\n"
     ]
    }
   ],
   "source": [
    "# use a sentence true \n",
    "if 2 > 1: \n",
    "    print(\"Cool!\")"
   ]
  },
  {
   "cell_type": "code",
   "execution_count": 2,
   "id": "de1e7a70",
   "metadata": {},
   "outputs": [
    {
     "name": "stdout",
     "output_type": "stream",
     "text": [
      "Go!\n"
     ]
    }
   ],
   "source": [
    "if 3 != 7:\n",
    "    print(\"Go!\")\n",
    "else:\n",
    "    print(\"Stop!\")"
   ]
  },
  {
   "cell_type": "code",
   "execution_count": 3,
   "id": "7aecb3fe",
   "metadata": {},
   "outputs": [
    {
     "name": "stdout",
     "output_type": "stream",
     "text": [
      "Yes\n"
     ]
    }
   ],
   "source": [
    "if 1 == 3:\n",
    "    print(\"Maybe\")\n",
    "elif 3 == 3:\n",
    "    print(\"Yes\")\n",
    "else:\n",
    "    print(\"No\")"
   ]
  },
  {
   "cell_type": "markdown",
   "id": "817db16b",
   "metadata": {},
   "source": [
    "* **For Loop →** used for loops "
   ]
  },
  {
   "cell_type": "code",
   "execution_count": 4,
   "id": "6b2d21f0",
   "metadata": {},
   "outputs": [
    {
     "name": "stdout",
     "output_type": "stream",
     "text": [
      "1\n",
      "2\n",
      "3\n"
     ]
    }
   ],
   "source": [
    "seq = [1,2,3]\n",
    "for num in seq:\n",
    "    print(num)"
   ]
  },
  {
   "cell_type": "markdown",
   "id": "2a118fb1",
   "metadata": {},
   "source": [
    "* **While Loop →** used for loops "
   ]
  },
  {
   "cell_type": "code",
   "execution_count": 5,
   "id": "41eab8a0",
   "metadata": {},
   "outputs": [
    {
     "name": "stdout",
     "output_type": "stream",
     "text": [
      "i is 1.\n",
      "i is 2.\n",
      "i is 3.\n",
      "i is 4.\n",
      "i is 5.\n"
     ]
    }
   ],
   "source": [
    "i = 1\n",
    "\n",
    "while i < 6:    # while i is less than 6\n",
    "    print(\"i is {}.\".format(i))    # print i\n",
    "    i = i + 1   # increment i by 1"
   ]
  },
  {
   "cell_type": "markdown",
   "id": "71836f89",
   "metadata": {},
   "source": [
    "* **Using Range →** used to generate a sequence of numbers"
   ]
  },
  {
   "cell_type": "code",
   "execution_count": 6,
   "id": "1f584a76",
   "metadata": {},
   "outputs": [
    {
     "name": "stdout",
     "output_type": "stream",
     "text": [
      "3\n",
      "4\n",
      "5\n",
      "6\n",
      "7\n"
     ]
    }
   ],
   "source": [
    "for X in range(3,8):  # from 3 to 9\n",
    "    print(X)"
   ]
  },
  {
   "cell_type": "code",
   "execution_count": 7,
   "id": "0874c8f4",
   "metadata": {},
   "outputs": [
    {
     "data": {
      "text/plain": [
       "[2, 3, 4, 5, 6, 7, 8, 9, 10, 11, 12, 13, 14, 15, 16, 17, 18, 19, 20, 21, 22]"
      ]
     },
     "execution_count": 7,
     "metadata": {},
     "output_type": "execute_result"
    }
   ],
   "source": [
    "# You can do this too:\n",
    "list(range(2,23))  # from 2 to 22"
   ]
  },
  {
   "cell_type": "markdown",
   "id": "b94c0d5c",
   "metadata": {},
   "source": [
    "* **List Comprehension**"
   ]
  },
  {
   "cell_type": "code",
   "execution_count": 8,
   "id": "ecf6dc9b",
   "metadata": {},
   "outputs": [],
   "source": [
    "b = [1,2,3,4,5]"
   ]
  },
  {
   "cell_type": "code",
   "execution_count": 9,
   "id": "1d1dd0fd",
   "metadata": {},
   "outputs": [],
   "source": [
    "out = []\n",
    "for num in b:\n",
    "    out.append(num**2)"
   ]
  },
  {
   "cell_type": "code",
   "execution_count": 10,
   "id": "b8dcf16b",
   "metadata": {},
   "outputs": [
    {
     "name": "stdout",
     "output_type": "stream",
     "text": [
      "[1, 4, 9, 16, 25]\n"
     ]
    }
   ],
   "source": [
    "print(out)"
   ]
  },
  {
   "cell_type": "code",
   "execution_count": 11,
   "id": "404813de",
   "metadata": {},
   "outputs": [],
   "source": [
    "# Another way to do the same thing: List Comprehension\n",
    "out = [num**2 for num in b]"
   ]
  },
  {
   "cell_type": "code",
   "execution_count": 12,
   "id": "4ccd945c",
   "metadata": {},
   "outputs": [
    {
     "name": "stdout",
     "output_type": "stream",
     "text": [
      "[1, 4, 9, 16, 25]\n"
     ]
    }
   ],
   "source": [
    "print(out)"
   ]
  }
 ],
 "metadata": {
  "kernelspec": {
   "display_name": "base",
   "language": "python",
   "name": "python3"
  },
  "language_info": {
   "codemirror_mode": {
    "name": "ipython",
    "version": 3
   },
   "file_extension": ".py",
   "mimetype": "text/x-python",
   "name": "python",
   "nbconvert_exporter": "python",
   "pygments_lexer": "ipython3",
   "version": "3.12.4"
  }
 },
 "nbformat": 4,
 "nbformat_minor": 5
}
