{
 "cells": [
  {
   "cell_type": "markdown",
   "id": "ecb0c2b6",
   "metadata": {},
   "source": [
    "## **Python Basics**\n",
    "\n",
    "Part IV: This repository is a quick reference for basic Python operations, initial concepts, and small details that are easy to forget."
   ]
  },
  {
   "cell_type": "markdown",
   "id": "89482e3d",
   "metadata": {},
   "source": [
    "*  **Defining Functions in Python (`def`) →*\n",
    "\n",
    "* Introduction"
   ]
  },
  {
   "cell_type": "code",
   "execution_count": 2,
   "id": "7bc8d3aa",
   "metadata": {},
   "outputs": [],
   "source": [
    "# Introduction to a Very Simple Function\n",
    "def function(parameter_1):\n",
    "    print(\"Hello, world! Welcome, \" + parameter_1)"
   ]
  },
  {
   "cell_type": "code",
   "execution_count": 3,
   "id": "18ad6644",
   "metadata": {},
   "outputs": [
    {
     "name": "stdout",
     "output_type": "stream",
     "text": [
      "Hello, world! Welcome, Heitor \n"
     ]
    }
   ],
   "source": [
    "function(\"Heitor \")"
   ]
  },
  {
   "cell_type": "code",
   "execution_count": 4,
   "id": "de1d4fad",
   "metadata": {},
   "outputs": [],
   "source": [
    "# another way is:\n",
    "def function(name='Default Name'):\n",
    "    print(\"Hello, \" + name)"
   ]
  },
  {
   "cell_type": "code",
   "execution_count": 5,
   "id": "2416f700",
   "metadata": {},
   "outputs": [
    {
     "name": "stdout",
     "output_type": "stream",
     "text": [
      "Hello, Maria\n"
     ]
    }
   ],
   "source": [
    "function('Maria')"
   ]
  },
  {
   "cell_type": "code",
   "execution_count": 6,
   "id": "bbde0c45",
   "metadata": {},
   "outputs": [],
   "source": [
    "# Creating Other Functions\n",
    "def square(num):\n",
    "    return num ** 2\n",
    "result = square(3)"
   ]
  },
  {
   "cell_type": "code",
   "execution_count": 7,
   "id": "2cead871",
   "metadata": {},
   "outputs": [
    {
     "name": "stdout",
     "output_type": "stream",
     "text": [
      "9\n"
     ]
    }
   ],
   "source": [
    "print(result)"
   ]
  },
  {
   "cell_type": "markdown",
   "id": "3d72237c",
   "metadata": {},
   "source": [
    "* **In Summary**\n",
    "\n",
    "**=>** Use `return` when the function needs to produce a result that will be used somewhere else.  \n",
    "\n",
    "**=>** Use `print` only when the goal is to display something on the screen.\n"
   ]
  },
  {
   "cell_type": "markdown",
   "id": "193d1878",
   "metadata": {},
   "source": [
    "* **Understanding the `map()` Function in Python**"
   ]
  },
  {
   "cell_type": "code",
   "execution_count": 8,
   "id": "86ff4b13",
   "metadata": {},
   "outputs": [],
   "source": [
    "def times_two(num): # this function multiplies the input by  2\n",
    "    return num * 2  # the result is returned to the caller\n",
    "\n",
    "# A different structure for this function could be:\n",
    "# def times_two(num): return num * 2"
   ]
  },
  {
   "cell_type": "code",
   "execution_count": 9,
   "id": "b06d5514",
   "metadata": {},
   "outputs": [
    {
     "data": {
      "text/plain": [
       "8"
      ]
     },
     "execution_count": 9,
     "metadata": {},
     "output_type": "execute_result"
    }
   ],
   "source": [
    "times_two(4)"
   ]
  },
  {
   "cell_type": "code",
   "execution_count": 10,
   "id": "32b3e263",
   "metadata": {},
   "outputs": [
    {
     "data": {
      "text/plain": [
       "[2, 4, 6, 8, 10]"
      ]
     },
     "execution_count": 10,
     "metadata": {},
     "output_type": "execute_result"
    }
   ],
   "source": [
    "conj= [1, 2, 3, 4, 5] # a list of numbers\n",
    "list(map(times_two, conj))  # this returns a map object"
   ]
  },
  {
   "cell_type": "markdown",
   "id": "a29ceeea",
   "metadata": {},
   "source": [
    "## **When to use `lambda` in Python?**\n",
    "\n",
    "* **`Lambda`** creates anonymous, unnamed functions, usually used in short and simple situations."
   ]
  },
  {
   "cell_type": "code",
   "execution_count": 11,
   "id": "525ff3c2",
   "metadata": {},
   "outputs": [
    {
     "name": "stdout",
     "output_type": "stream",
     "text": [
      "5\n",
      "5\n"
     ]
    }
   ],
   "source": [
    "# normally, we would use:\n",
    "def add(x, y):    \n",
    "    return x + y\n",
    "print(add(2, 3))\n",
    "\n",
    "# but we can also use lambda:\n",
    "add = lambda x, y: x + y     # lambda function\n",
    "print(add(2, 3))             # calling the lambda function"
   ]
  },
  {
   "cell_type": "code",
   "execution_count": 12,
   "id": "69338a9c",
   "metadata": {},
   "outputs": [
    {
     "data": {
      "text/plain": [
       "[3, 6, 9, 12, 15]"
      ]
     },
     "execution_count": 12,
     "metadata": {},
     "output_type": "execute_result"
    }
   ],
   "source": [
    "seq = [1, 2, 3, 4, 5]\n",
    "list(map(lambda num: num * 3, seq))  # using lambda inside map"
   ]
  },
  {
   "cell_type": "code",
   "execution_count": 13,
   "id": "c160f47a",
   "metadata": {},
   "outputs": [
    {
     "data": {
      "text/plain": [
       "[2, 4]"
      ]
     },
     "execution_count": 13,
     "metadata": {},
     "output_type": "execute_result"
    }
   ],
   "source": [
    "# Naw, use filter for filtering a list based on a condition\n",
    "list(filter(lambda num: num % 2 == 0, seq))  # filtering even numbers from the list"
   ]
  },
  {
   "cell_type": "code",
   "execution_count": 14,
   "id": "b657a32b",
   "metadata": {},
   "outputs": [
    {
     "data": {
      "text/plain": [
       "'hello, my name is $heitor'"
      ]
     },
     "execution_count": 14,
     "metadata": {},
     "output_type": "execute_result"
    }
   ],
   "source": [
    "# lowercase and uppercase string methods\n",
    "s = \"Hello, my name is $HEITOR\"\n",
    "s.lower()  # returns the string in lowercase "
   ]
  },
  {
   "cell_type": "code",
   "execution_count": 15,
   "id": "73254fb5",
   "metadata": {},
   "outputs": [
    {
     "data": {
      "text/plain": [
       "'HELLO, MY NAME IS $HEITOR'"
      ]
     },
     "execution_count": 15,
     "metadata": {},
     "output_type": "execute_result"
    }
   ],
   "source": [
    "s.upper()  # returns the string in uppercase"
   ]
  },
  {
   "cell_type": "code",
   "execution_count": 16,
   "id": "42c95261",
   "metadata": {},
   "outputs": [
    {
     "data": {
      "text/plain": [
       "['Hello,', 'my', 'name', 'is', '$HEITOR']"
      ]
     },
     "execution_count": 16,
     "metadata": {},
     "output_type": "execute_result"
    }
   ],
   "source": [
    "# Naw separate strings into lists\n",
    "s.split()  # splits the string at whitespace"
   ]
  },
  {
   "cell_type": "code",
   "execution_count": 17,
   "id": "b951c6e2",
   "metadata": {},
   "outputs": [
    {
     "data": {
      "text/plain": [
       "['Hello', ' my name is $HEITOR']"
      ]
     },
     "execution_count": 17,
     "metadata": {},
     "output_type": "execute_result"
    }
   ],
   "source": [
    "# Its possible to specify the separator\n",
    "s.split(',')  # splits the string at each comma"
   ]
  },
  {
   "cell_type": "code",
   "execution_count": 18,
   "id": "8b8c32f8",
   "metadata": {},
   "outputs": [],
   "source": [
    "suk = \"Morning, my name is $HEITOR\""
   ]
  },
  {
   "cell_type": "code",
   "execution_count": 19,
   "id": "1e920872",
   "metadata": {},
   "outputs": [
    {
     "data": {
      "text/plain": [
       "'HEITOR'"
      ]
     },
     "execution_count": 19,
     "metadata": {},
     "output_type": "execute_result"
    }
   ],
   "source": [
    "# Alse, you can:\n",
    "suk.split('$')[1]  # splits the string at 'my' and returns the second part"
   ]
  },
  {
   "cell_type": "code",
   "execution_count": 20,
   "id": "63b0a182",
   "metadata": {},
   "outputs": [
    {
     "data": {
      "text/plain": [
       "dict_keys(['k1', 'k2'])"
      ]
     },
     "execution_count": 20,
     "metadata": {},
     "output_type": "execute_result"
    }
   ],
   "source": [
    "# Return to dicctionaries\n",
    "d = {'k1': 1, 'k2': 2}\n",
    "d.keys()  # returns the keys of the dictionary"
   ]
  },
  {
   "cell_type": "code",
   "execution_count": 21,
   "id": "3318eccb",
   "metadata": {},
   "outputs": [
    {
     "data": {
      "text/plain": [
       "dict_items([('k1', 1), ('k2', 2)])"
      ]
     },
     "execution_count": 21,
     "metadata": {},
     "output_type": "execute_result"
    }
   ],
   "source": [
    "d.items()  # returns the items of the dictionary"
   ]
  },
  {
   "cell_type": "code",
   "execution_count": 22,
   "id": "82eb05d7",
   "metadata": {},
   "outputs": [
    {
     "data": {
      "text/plain": [
       "dict_values([1, 2])"
      ]
     },
     "execution_count": 22,
     "metadata": {},
     "output_type": "execute_result"
    }
   ],
   "source": [
    "d.values()  # returns the values of the dictionary"
   ]
  },
  {
   "cell_type": "code",
   "execution_count": 23,
   "id": "42bd6bfb",
   "metadata": {},
   "outputs": [
    {
     "data": {
      "text/plain": [
       "3"
      ]
     },
     "execution_count": 23,
     "metadata": {},
     "output_type": "execute_result"
    }
   ],
   "source": [
    "lst= [1, 2, 3]\n",
    "lst.pop()  # removes and returns the last item in the list"
   ]
  },
  {
   "cell_type": "code",
   "execution_count": 24,
   "id": "b6374b07",
   "metadata": {},
   "outputs": [
    {
     "name": "stdout",
     "output_type": "stream",
     "text": [
      "[1, 2]\n"
     ]
    }
   ],
   "source": [
    "print(lst)"
   ]
  },
  {
   "cell_type": "code",
   "execution_count": 25,
   "id": "e9651504",
   "metadata": {},
   "outputs": [
    {
     "name": "stdout",
     "output_type": "stream",
     "text": [
      "[1, 2, 3, 4, 5, 6, 7, 8, 9]\n",
      "10\n"
     ]
    }
   ],
   "source": [
    "# So, you can make this:\n",
    "lste = [1, 2, 3, 4, 5, 6, 7, 8, 9, 10]\n",
    "so = lste.pop() # removes and returns the last item in the list\n",
    "print(lste)\n",
    "print(so)"
   ]
  },
  {
   "cell_type": "code",
   "execution_count": 26,
   "id": "adfb2368",
   "metadata": {},
   "outputs": [
    {
     "name": "stdout",
     "output_type": "stream",
     "text": [
      "[1, 2, 3, 5, 6, 7, 8, 9]\n",
      "4\n"
     ]
    }
   ],
   "source": [
    "qlq = lste.pop(3)  # removes and returns the item at index 3\n",
    "print(lste)\n",
    "print(qlq)"
   ]
  },
  {
   "cell_type": "code",
   "execution_count": 27,
   "id": "e69cca8b",
   "metadata": {},
   "outputs": [
    {
     "name": "stdout",
     "output_type": "stream",
     "text": [
      "[1, 2, 3, 5, 6, 7, 8, 9, 'new']\n"
     ]
    }
   ],
   "source": [
    "lste.append(\"new\")\n",
    "print(lste) # adds 11 to the end of the list"
   ]
  },
  {
   "cell_type": "markdown",
   "id": "3fe19fa6",
   "metadata": {},
   "source": [
    "* **Operator**"
   ]
  },
  {
   "cell_type": "code",
   "execution_count": 28,
   "id": "1a7d1fd1",
   "metadata": {},
   "outputs": [
    {
     "data": {
      "text/plain": [
       "False"
      ]
     },
     "execution_count": 28,
     "metadata": {},
     "output_type": "execute_result"
    }
   ],
   "source": [
    "'X' in [1, 2, 3]  # checks if X is in the list"
   ]
  },
  {
   "cell_type": "code",
   "execution_count": 29,
   "id": "c0c4feb5",
   "metadata": {},
   "outputs": [
    {
     "data": {
      "text/plain": [
       "True"
      ]
     },
     "execution_count": 29,
     "metadata": {},
     "output_type": "execute_result"
    }
   ],
   "source": [
    "'X' in ['X', 'Y', 'Z']  # checks if X is in the list"
   ]
  },
  {
   "cell_type": "code",
   "execution_count": 30,
   "id": "40673703",
   "metadata": {},
   "outputs": [
    {
     "data": {
      "text/plain": [
       "(5, 6)"
      ]
     },
     "execution_count": 30,
     "metadata": {},
     "output_type": "execute_result"
    }
   ],
   "source": [
    "# Now something different:\n",
    "x = [(1, 2), (3, 4), (5, 6)] # a list of tuples\n",
    "x[2]  # returns the first tuple in the list"
   ]
  },
  {
   "cell_type": "code",
   "execution_count": 31,
   "id": "b405615f",
   "metadata": {},
   "outputs": [
    {
     "data": {
      "text/plain": [
       "6"
      ]
     },
     "execution_count": 31,
     "metadata": {},
     "output_type": "execute_result"
    }
   ],
   "source": [
    "x[2][1]  # returns the second element of the first tuple in the list"
   ]
  },
  {
   "cell_type": "code",
   "execution_count": 32,
   "id": "3573b579",
   "metadata": {},
   "outputs": [
    {
     "name": "stdout",
     "output_type": "stream",
     "text": [
      "(1, 2)\n",
      "(3, 4)\n",
      "(5, 6)\n"
     ]
    }
   ],
   "source": [
    "#\n",
    "for item in x:\n",
    "    print(item) # prints each tuple in the list"
   ]
  },
  {
   "cell_type": "code",
   "execution_count": 33,
   "id": "a0c00322",
   "metadata": {},
   "outputs": [
    {
     "name": "stdout",
     "output_type": "stream",
     "text": [
      "1\n",
      "3\n",
      "5\n"
     ]
    }
   ],
   "source": [
    "# Another way to do it:\n",
    "for (a, b) in x:\n",
    "    print(a) # prints the first element of each tuple in the list"
   ]
  },
  {
   "cell_type": "markdown",
   "id": "0536e319",
   "metadata": {},
   "source": [
    "**Well, that's all for now. See you later!**"
   ]
  }
 ],
 "metadata": {
  "kernelspec": {
   "display_name": "base",
   "language": "python",
   "name": "python3"
  },
  "language_info": {
   "codemirror_mode": {
    "name": "ipython",
    "version": 3
   },
   "file_extension": ".py",
   "mimetype": "text/x-python",
   "name": "python",
   "nbconvert_exporter": "python",
   "pygments_lexer": "ipython3",
   "version": "3.12.4"
  }
 },
 "nbformat": 4,
 "nbformat_minor": 5
}
