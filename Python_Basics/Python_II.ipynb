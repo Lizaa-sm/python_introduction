{
 "cells": [
  {
   "cell_type": "markdown",
   "id": "52aa636a",
   "metadata": {},
   "source": [
    "## **Python Basics**\n",
    "\n",
    "Part II: This repository is a quick reference for basic Python operations, initial concepts, and small details that are easy to forget."
   ]
  },
  {
   "cell_type": "markdown",
   "id": "5b8349b3",
   "metadata": {},
   "source": [
    "* **Dictionaries in Python**\n",
    "A dictionary stores data as key-value pairs"
   ]
  },
  {
   "cell_type": "code",
   "execution_count": 1,
   "id": "eadd2ecd",
   "metadata": {},
   "outputs": [
    {
     "data": {
      "text/plain": [
       "'um'"
      ]
     },
     "execution_count": 1,
     "metadata": {},
     "output_type": "execute_result"
    }
   ],
   "source": [
    "a = {\"One\": 'um', \"two\": 'dois'} # Dictionary with key-value pairs one is \"um\" and two is \"dois\"\n",
    "a[\"One\"]  # Access the value associated with the key \"One\""
   ]
  },
  {
   "cell_type": "code",
   "execution_count": 2,
   "id": "f204ead6",
   "metadata": {},
   "outputs": [
    {
     "data": {
      "text/plain": [
       "[1, 2, 3]"
      ]
     },
     "execution_count": 2,
     "metadata": {},
     "output_type": "execute_result"
    }
   ],
   "source": [
    "a = {\"K1\": [1, 2, 3]} # Nested dictionary\n",
    "a[\"K1\"] # Access the value "
   ]
  },
  {
   "cell_type": "code",
   "execution_count": 3,
   "id": "afe77c42",
   "metadata": {},
   "outputs": [
    {
     "data": {
      "text/plain": [
       "2"
      ]
     },
     "execution_count": 3,
     "metadata": {},
     "output_type": "execute_result"
    }
   ],
   "source": [
    "a[\"K1\"][1] # Access the second element of the list associated with key \"K1\" \n"
   ]
  },
  {
   "cell_type": "code",
   "execution_count": 4,
   "id": "305dadb6",
   "metadata": {},
   "outputs": [
    {
     "data": {
      "text/plain": [
       "1"
      ]
     },
     "execution_count": 4,
     "metadata": {},
     "output_type": "execute_result"
    }
   ],
   "source": [
    "# You can acess elements for onother instructions, for example:\n",
    "list_ex = a[\"K1\"] # This will give you the list [1, 2, 3]\n",
    "list_ex[0] # This will give you the first element of the list, which is 1"
   ]
  },
  {
   "cell_type": "code",
   "execution_count": 5,
   "id": "a5da62d4",
   "metadata": {},
   "outputs": [],
   "source": [
    "list_ex = a[\"K1\"][1] # This will give you the first element of the list, which is 1"
   ]
  },
  {
   "cell_type": "markdown",
   "id": "152921ce",
   "metadata": {},
   "source": [
    "* **Nested Dictionaries (Inner Keys)**"
   ]
  },
  {
   "cell_type": "code",
   "execution_count": 6,
   "id": "9f6b133d",
   "metadata": {},
   "outputs": [
    {
     "data": {
      "text/plain": [
       "2"
      ]
     },
     "execution_count": 6,
     "metadata": {},
     "output_type": "execute_result"
    }
   ],
   "source": [
    "a = [{\"K1\": {\"innerkey\": [1, 2, 3]}}] # Nested dictionary\n",
    "a[0][\"K1\"][\"innerkey\"][1] # Access the second element of the\n",
    "# list associated with the key \"innerkey\" in the dictionary\n",
    "# list - dictionary - dictionary - list - integer"
   ]
  },
  {
   "cell_type": "markdown",
   "id": "9e0f3d20",
   "metadata": {},
   "source": [
    "* **List or Tuple**"
   ]
  },
  {
   "cell_type": "code",
   "execution_count": 7,
   "id": "5f39b8be",
   "metadata": {},
   "outputs": [
    {
     "ename": "TypeError",
     "evalue": "'tuple' object does not support item assignment",
     "output_type": "error",
     "traceback": [
      "\u001b[1;31m---------------------------------------------------------------------------\u001b[0m",
      "\u001b[1;31mTypeError\u001b[0m                                 Traceback (most recent call last)",
      "Cell \u001b[1;32mIn[7], line 7\u001b[0m\n\u001b[0;32m      5\u001b[0m my_tuple \u001b[38;5;241m=\u001b[39m (\u001b[38;5;241m1\u001b[39m, \u001b[38;5;241m2\u001b[39m, \u001b[38;5;241m3\u001b[39m)\n\u001b[0;32m      6\u001b[0m my_list[\u001b[38;5;241m0\u001b[39m] \u001b[38;5;241m=\u001b[39m \u001b[38;5;124m'\u001b[39m\u001b[38;5;124mNEW\u001b[39m\u001b[38;5;124m'\u001b[39m \u001b[38;5;66;03m# This will work because lists are mutable\u001b[39;00m\n\u001b[1;32m----> 7\u001b[0m my_tuple[\u001b[38;5;241m0\u001b[39m] \u001b[38;5;241m=\u001b[39m \u001b[38;5;124m'\u001b[39m\u001b[38;5;124mNEW\u001b[39m\u001b[38;5;124m'\u001b[39m\n",
      "\u001b[1;31mTypeError\u001b[0m: 'tuple' object does not support item assignment"
     ]
    }
   ],
   "source": [
    "# Difference between a list and a tuple\n",
    "# list is mutable, tuple is immutable\n",
    "# list uses square brackets [], tuple uses parentheses ()   \n",
    "my_list = [1, 2, 3]\n",
    "my_tuple = (1, 2, 3)\n",
    "my_list[0] = 'NEW' # This will work because lists are mutable\n",
    "my_tuple[0] = 'NEW' # This will give an error because tuples are immutable  "
   ]
  },
  {
   "cell_type": "markdown",
   "id": "3f2ce398",
   "metadata": {},
   "source": [
    "* **Sets**"
   ]
  },
  {
   "cell_type": "code",
   "execution_count": null,
   "id": "2b73f25a",
   "metadata": {},
   "outputs": [],
   "source": [
    "# If you has a sets you can do the following:\n",
    "my_set = set() # Create an empty set    \n",
    "my_set.add(1) # Add an element to the set\n",
    "my_set.add(2) # Add another element to the set  \n",
    "my_set.add(2) # Try to add a duplicate element to the set\n",
    "print(my_set) # This will print {1, 2} because sets do not allow duplicates"
   ]
  },
  {
   "cell_type": "markdown",
   "id": "6851aa64",
   "metadata": {},
   "source": [
    "# **In Summary**\n",
    "\n",
    "* **List →** use .append() to add elements.\n",
    "\n",
    "* **Tuple →** cannot add elements (immutable).\n",
    "\n",
    "* **Set →** use .add() to add elements."
   ]
  }
 ],
 "metadata": {
  "kernelspec": {
   "display_name": "base",
   "language": "python",
   "name": "python3"
  },
  "language_info": {
   "codemirror_mode": {
    "name": "ipython",
    "version": 3
   },
   "file_extension": ".py",
   "mimetype": "text/x-python",
   "name": "python",
   "nbconvert_exporter": "python",
   "pygments_lexer": "ipython3",
   "version": "3.12.4"
  }
 },
 "nbformat": 4,
 "nbformat_minor": 5
}
