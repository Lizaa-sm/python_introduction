{
 "cells": [
  {
   "cell_type": "markdown",
   "id": "650e4fec",
   "metadata": {},
   "source": [
    "# Python Basics \n",
    "\n",
    "Part III: This repository is a quick reference for basic Python operations, initial concepts, and small details that are easy to forget."
   ]
  },
  {
   "cell_type": "markdown",
   "id": "ab48a865",
   "metadata": {},
   "source": [
    "* If Statement"
   ]
  },
  {
   "cell_type": "code",
   "execution_count": null,
   "id": "838fb71e",
   "metadata": {},
   "outputs": [
    {
     "name": "stdout",
     "output_type": "stream",
     "text": [
      "Cool!\n"
     ]
    }
   ],
   "source": [
    "# use a sentence true \n",
    "if 2 > 1: \n",
    "    print(\"Cool!\")"
   ]
  },
  {
   "cell_type": "code",
   "execution_count": 5,
   "id": "de1e7a70",
   "metadata": {},
   "outputs": [
    {
     "name": "stdout",
     "output_type": "stream",
     "text": [
      "Go!\n"
     ]
    }
   ],
   "source": [
    "if 3 != 7:\n",
    "    print(\"Go!\")\n",
    "else:\n",
    "    print(\"Stop!\")"
   ]
  },
  {
   "cell_type": "code",
   "execution_count": 6,
   "id": "7aecb3fe",
   "metadata": {},
   "outputs": [
    {
     "name": "stdout",
     "output_type": "stream",
     "text": [
      "Yes\n"
     ]
    }
   ],
   "source": [
    "if 1 == 3:\n",
    "    print(\"Maybe\")\n",
    "elif 3 == 3:\n",
    "    print(\"Yes\")\n",
    "else:\n",
    "    print(\"No\")"
   ]
  }
 ],
 "metadata": {
  "kernelspec": {
   "display_name": "ambiente-teste-1",
   "language": "python",
   "name": "python3"
  },
  "language_info": {
   "codemirror_mode": {
    "name": "ipython",
    "version": 3
   },
   "file_extension": ".py",
   "mimetype": "text/x-python",
   "name": "python",
   "nbconvert_exporter": "python",
   "pygments_lexer": "ipython3",
   "version": "3.12.4"
  }
 },
 "nbformat": 4,
 "nbformat_minor": 5
}
