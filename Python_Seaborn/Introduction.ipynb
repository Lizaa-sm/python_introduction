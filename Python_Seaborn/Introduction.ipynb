{
 "cells": [
  {
   "cell_type": "markdown",
   "id": "2d48458b",
   "metadata": {},
   "source": [
    "## **Introduction Seaborn - Python for Data Visualization**\n",
    "\n",
    "Seaborn is a Python data visualization library built on top of matplotlib. It was designed to make it easier to create beautiful and informative statistical graphics with less code. Seaborn comes with attractive default styles and works seamlessly with pandas DataFrames. It also provides high-level functions for common statistical plots, such as boxplots, heatmaps, probability distributions, regression plots, and more."
   ]
  },
  {
   "cell_type": "code",
   "execution_count": null,
   "id": "bfb76987",
   "metadata": {
    "vscode": {
     "languageId": "plaintext"
    }
   },
   "outputs": [],
   "source": []
  }
 ],
 "metadata": {
  "language_info": {
   "name": "python"
  }
 },
 "nbformat": 4,
 "nbformat_minor": 5
}
