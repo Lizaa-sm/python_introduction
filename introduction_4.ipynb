{
 "cells": [
  {
   "cell_type": "markdown",
   "id": "ecb0c2b6",
   "metadata": {},
   "source": [
    "# Python Basics \n",
    "\n",
    "Part IV: This repository is a quick reference for basic Python operations, initial concepts, and small details that are easy to forget."
   ]
  },
  {
   "cell_type": "markdown",
   "id": "89482e3d",
   "metadata": {},
   "source": [
    "* Defining Functions in Python (def) → Introduction"
   ]
  },
  {
   "cell_type": "code",
   "execution_count": 14,
   "id": "7bc8d3aa",
   "metadata": {},
   "outputs": [],
   "source": [
    "# Introduction to a Very Simple Function\n",
    "def function(parameter_1):\n",
    "    print(\"Hello, world! Welcome, \" + parameter_1)"
   ]
  },
  {
   "cell_type": "code",
   "execution_count": 15,
   "id": "18ad6644",
   "metadata": {},
   "outputs": [
    {
     "name": "stdout",
     "output_type": "stream",
     "text": [
      "Hello, world! Welcome, Heitor \n"
     ]
    }
   ],
   "source": [
    "function(\"Heitor \")"
   ]
  },
  {
   "cell_type": "code",
   "execution_count": 16,
   "id": "de1d4fad",
   "metadata": {},
   "outputs": [],
   "source": [
    "# another way is:\n",
    "def function(name='Default Name'):\n",
    "    print(\"Hello, \" + name)"
   ]
  },
  {
   "cell_type": "code",
   "execution_count": 17,
   "id": "2416f700",
   "metadata": {},
   "outputs": [
    {
     "name": "stdout",
     "output_type": "stream",
     "text": [
      "Hello, Maria\n"
     ]
    }
   ],
   "source": [
    "function('Maria')"
   ]
  },
  {
   "cell_type": "code",
   "execution_count": 23,
   "id": "bbde0c45",
   "metadata": {},
   "outputs": [],
   "source": [
    "# Creating Other Functions\n",
    "def square(num):\n",
    "    return num ** 2\n",
    "result = square(3)"
   ]
  },
  {
   "cell_type": "code",
   "execution_count": 24,
   "id": "2cead871",
   "metadata": {},
   "outputs": [
    {
     "name": "stdout",
     "output_type": "stream",
     "text": [
      "9\n"
     ]
    }
   ],
   "source": [
    "print(result)"
   ]
  },
  {
   "cell_type": "markdown",
   "id": "3d72237c",
   "metadata": {},
   "source": [
    "* In Summary\n",
    "\n",
    "=> Use `return` when the function needs to produce a result that will be used somewhere else.  \n",
    "\n",
    "=> Use `print` only when the goal is to display something on the screen.\n"
   ]
  }
 ],
 "metadata": {
  "kernelspec": {
   "display_name": "ambiente-teste-1",
   "language": "python",
   "name": "python3"
  },
  "language_info": {
   "codemirror_mode": {
    "name": "ipython",
    "version": 3
   },
   "file_extension": ".py",
   "mimetype": "text/x-python",
   "name": "python",
   "nbconvert_exporter": "python",
   "pygments_lexer": "ipython3",
   "version": "3.12.4"
  }
 },
 "nbformat": 4,
 "nbformat_minor": 5
}
