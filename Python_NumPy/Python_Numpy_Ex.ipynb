{
 "cells": [
  {
   "cell_type": "markdown",
   "id": "4e1a325e",
   "metadata": {},
   "source": [
    "## **Some Examples Solved Using NumPy**"
   ]
  },
  {
   "cell_type": "markdown",
   "id": "24472dd9",
   "metadata": {},
   "source": [
    "**|-> Example 1:** Import library NumPy."
   ]
  },
  {
   "cell_type": "code",
   "execution_count": 94,
   "id": "7880bb96",
   "metadata": {},
   "outputs": [],
   "source": [
    "import numpy as np"
   ]
  },
  {
   "cell_type": "markdown",
   "id": "aa2c1385",
   "metadata": {},
   "source": [
    "**|-> Example 2:** Create a array of 10 zeros."
   ]
  },
  {
   "cell_type": "code",
   "execution_count": 95,
   "id": "7a2612ad",
   "metadata": {},
   "outputs": [
    {
     "name": "stdout",
     "output_type": "stream",
     "text": [
      "[0. 0. 0. 0. 0. 0. 0. 0. 0. 0.]\n"
     ]
    }
   ],
   "source": [
    "zeros = np.zeros(10)\n",
    "print(zeros)\n",
    "# np.ones(10) to create an array of ones."
   ]
  },
  {
   "cell_type": "markdown",
   "id": "e4df25d4",
   "metadata": {},
   "source": [
    "**|-> Example 3:**  Create an array of 10 number fives."
   ]
  },
  {
   "cell_type": "code",
   "execution_count": 96,
   "id": "971361eb",
   "metadata": {},
   "outputs": [
    {
     "name": "stdout",
     "output_type": "stream",
     "text": [
      "[5. 5. 5. 5. 5. 5. 5. 5. 5. 5.]\n"
     ]
    }
   ],
   "source": [
    "five = np.ones(10) * 5 # or np.full(10, 5) or np.ones(10) + 5\n",
    "print(five)"
   ]
  },
  {
   "cell_type": "markdown",
   "id": "40740656",
   "metadata": {},
   "source": [
    "**|-> Example 4:** Create a array of the integers from 10 to 30."
   ]
  },
  {
   "cell_type": "code",
   "execution_count": 97,
   "id": "b9316cf4",
   "metadata": {},
   "outputs": [
    {
     "data": {
      "text/plain": [
       "array([10, 11, 12, 13, 14, 15, 16, 17, 18, 19, 20, 21, 22, 23, 24, 25, 26,\n",
       "       27, 28, 29, 30])"
      ]
     },
     "execution_count": 97,
     "metadata": {},
     "output_type": "execute_result"
    }
   ],
   "source": [
    "np.arange(10, 31)"
   ]
  },
  {
   "cell_type": "markdown",
   "id": "33d8a7d1",
   "metadata": {},
   "source": [
    "**|-> Example 5:** Create a array of all the even integers from 10 to 30."
   ]
  },
  {
   "cell_type": "code",
   "execution_count": 98,
   "id": "c1565fe9",
   "metadata": {},
   "outputs": [
    {
     "data": {
      "text/plain": [
       "array([10, 12, 14, 16, 18, 20, 22, 24, 26, 28, 30])"
      ]
     },
     "execution_count": 98,
     "metadata": {},
     "output_type": "execute_result"
    }
   ],
   "source": [
    "np.arange(10, 31, 2)"
   ]
  },
  {
   "cell_type": "markdown",
   "id": "8a72b3c0",
   "metadata": {},
   "source": [
    "**|-> Example 6:** Creat a 3x3 matrix with values ranging from 1 to 9."
   ]
  },
  {
   "cell_type": "code",
   "execution_count": 99,
   "id": "6188affa",
   "metadata": {},
   "outputs": [
    {
     "data": {
      "text/plain": [
       "array([[1, 2, 3],\n",
       "       [4, 5, 6],\n",
       "       [7, 8, 9]])"
      ]
     },
     "execution_count": 99,
     "metadata": {},
     "output_type": "execute_result"
    }
   ],
   "source": [
    "matrix_1 = np.arange(1, 10).reshape(3, 3)\n",
    "matrix_1\n"
   ]
  },
  {
   "cell_type": "markdown",
   "id": "5811f2ff",
   "metadata": {},
   "source": [
    "**|-> Example 7:** Creat a 3x3 indentity matrix."
   ]
  },
  {
   "cell_type": "code",
   "execution_count": 100,
   "id": "2d62365f",
   "metadata": {},
   "outputs": [
    {
     "data": {
      "text/plain": [
       "array([[1., 0., 0.],\n",
       "       [0., 1., 0.],\n",
       "       [0., 0., 1.]])"
      ]
     },
     "execution_count": 100,
     "metadata": {},
     "output_type": "execute_result"
    }
   ],
   "source": [
    "matrix_2 = np.eye(3)\n",
    "matrix_2"
   ]
  },
  {
   "cell_type": "markdown",
   "id": "4a351d3c",
   "metadata": {},
   "source": [
    "**|-> Example 8:** Generate a number between 0 and 1"
   ]
  },
  {
   "cell_type": "code",
   "execution_count": 101,
   "id": "075b7762",
   "metadata": {},
   "outputs": [
    {
     "data": {
      "text/plain": [
       "array([0.35568332])"
      ]
     },
     "execution_count": 101,
     "metadata": {},
     "output_type": "execute_result"
    }
   ],
   "source": [
    "np.random.rand(1) "
   ]
  },
  {
   "cell_type": "markdown",
   "id": "87f42bff",
   "metadata": {},
   "source": [
    "**|-> Example 9:** Generate an array of 15 radom numbers sampled from a standad normal distribution."
   ]
  },
  {
   "cell_type": "code",
   "execution_count": 102,
   "id": "1a8f4b71",
   "metadata": {},
   "outputs": [
    {
     "data": {
      "text/plain": [
       "array([ 0.30334113, -0.76211078,  0.5139233 ,  0.62028583, -1.78448902,\n",
       "        1.00116795,  1.27402275, -0.63487918, -0.13375754,  0.73052256,\n",
       "        0.3498822 , -1.2075307 , -1.04251167,  0.46234283, -0.52235609])"
      ]
     },
     "execution_count": 102,
     "metadata": {},
     "output_type": "execute_result"
    }
   ],
   "source": [
    "matrix_3 = np.random.randn(15)\n",
    "matrix_3"
   ]
  },
  {
   "cell_type": "markdown",
   "id": "7e8ed642",
   "metadata": {},
   "source": [
    "**|-> Example 10:** Create a two-dimensional matrix of size 10 × 10 with numerical values between 0.01 and 1.00.\n"
   ]
  },
  {
   "cell_type": "code",
   "execution_count": 103,
   "id": "b9b7ce5a",
   "metadata": {},
   "outputs": [
    {
     "data": {
      "text/plain": [
       "array([[0.01, 0.02, 0.03, 0.04, 0.05, 0.06, 0.07, 0.08, 0.09, 0.1 ],\n",
       "       [0.11, 0.12, 0.13, 0.14, 0.15, 0.16, 0.17, 0.18, 0.19, 0.2 ],\n",
       "       [0.21, 0.22, 0.23, 0.24, 0.25, 0.26, 0.27, 0.28, 0.29, 0.3 ],\n",
       "       [0.31, 0.32, 0.33, 0.34, 0.35, 0.36, 0.37, 0.38, 0.39, 0.4 ],\n",
       "       [0.41, 0.42, 0.43, 0.44, 0.45, 0.46, 0.47, 0.48, 0.49, 0.5 ],\n",
       "       [0.51, 0.52, 0.53, 0.54, 0.55, 0.56, 0.57, 0.58, 0.59, 0.6 ],\n",
       "       [0.61, 0.62, 0.63, 0.64, 0.65, 0.66, 0.67, 0.68, 0.69, 0.7 ],\n",
       "       [0.71, 0.72, 0.73, 0.74, 0.75, 0.76, 0.77, 0.78, 0.79, 0.8 ],\n",
       "       [0.81, 0.82, 0.83, 0.84, 0.85, 0.86, 0.87, 0.88, 0.89, 0.9 ],\n",
       "       [0.91, 0.92, 0.93, 0.94, 0.95, 0.96, 0.97, 0.98, 0.99, 1.  ]])"
      ]
     },
     "execution_count": 103,
     "metadata": {},
     "output_type": "execute_result"
    }
   ],
   "source": [
    "\n",
    "np.linspace(0.01, 1, 100).reshape(10, 10)\n",
    "\n",
    "# Another way np.arange(1, 101).reshape(10, 10)/100 \n"
   ]
  },
  {
   "cell_type": "markdown",
   "id": "06a35442",
   "metadata": {},
   "source": [
    "**|-> Example 10:** Let's create a matrix and perform some operations."
   ]
  },
  {
   "cell_type": "code",
   "execution_count": 104,
   "id": "9df72ab0",
   "metadata": {},
   "outputs": [
    {
     "data": {
      "text/plain": [
       "array([[ 1,  2,  3,  4,  5],\n",
       "       [ 6,  7,  8,  9, 10],\n",
       "       [11, 12, 13, 14, 15],\n",
       "       [16, 17, 18, 19, 20],\n",
       "       [21, 22, 23, 24, 25]])"
      ]
     },
     "execution_count": 104,
     "metadata": {},
     "output_type": "execute_result"
    }
   ],
   "source": [
    "matrix_4 = np.arange(1, 26).reshape(5, 5) \n",
    "\n",
    "matrix_4"
   ]
  },
  {
   "cell_type": "code",
   "execution_count": 105,
   "id": "d48cb55d",
   "metadata": {},
   "outputs": [
    {
     "data": {
      "text/plain": [
       "325"
      ]
     },
     "execution_count": 105,
     "metadata": {},
     "output_type": "execute_result"
    }
   ],
   "source": [
    "# some operations\n",
    "matrix_4.sum() # or np.sum(matrix_4)"
   ]
  },
  {
   "cell_type": "code",
   "execution_count": 106,
   "id": "60e5d459",
   "metadata": {},
   "outputs": [
    {
     "data": {
      "text/plain": [
       "array([[0, 0, 0, 0, 0],\n",
       "       [0, 0, 0, 0, 0],\n",
       "       [0, 0, 0, 0, 0],\n",
       "       [0, 0, 0, 0, 0],\n",
       "       [0, 0, 0, 0, 0]])"
      ]
     },
     "execution_count": 106,
     "metadata": {},
     "output_type": "execute_result"
    }
   ],
   "source": [
    "# Subtration\n",
    "matrix_4 - matrix_4\n"
   ]
  },
  {
   "cell_type": "code",
   "execution_count": 107,
   "id": "72345b76",
   "metadata": {},
   "outputs": [
    {
     "data": {
      "text/plain": [
       "array([[  1,   4,   9,  16,  25],\n",
       "       [ 36,  49,  64,  81, 100],\n",
       "       [121, 144, 169, 196, 225],\n",
       "       [256, 289, 324, 361, 400],\n",
       "       [441, 484, 529, 576, 625]])"
      ]
     },
     "execution_count": 107,
     "metadata": {},
     "output_type": "execute_result"
    }
   ],
   "source": [
    "# multiplication\n",
    "matrix_4 * matrix_4"
   ]
  },
  {
   "cell_type": "code",
   "execution_count": 108,
   "id": "f8eb2ccf",
   "metadata": {},
   "outputs": [
    {
     "data": {
      "text/plain": [
       "array([[ 0.84147098,  0.90929743,  0.14112001, -0.7568025 , -0.95892427],\n",
       "       [-0.2794155 ,  0.6569866 ,  0.98935825,  0.41211849, -0.54402111],\n",
       "       [-0.99999021, -0.53657292,  0.42016704,  0.99060736,  0.65028784],\n",
       "       [-0.28790332, -0.96139749, -0.75098725,  0.14987721,  0.91294525],\n",
       "       [ 0.83665564, -0.00885131, -0.8462204 , -0.90557836, -0.13235175]])"
      ]
     },
     "execution_count": 108,
     "metadata": {},
     "output_type": "execute_result"
    }
   ],
   "source": [
    "# sen(matrix_4)\n",
    "np.sin(matrix_4)"
   ]
  },
  {
   "cell_type": "code",
   "execution_count": 109,
   "id": "f2ee21cd",
   "metadata": {},
   "outputs": [
    {
     "data": {
      "text/plain": [
       "7.211102550927978"
      ]
     },
     "execution_count": 109,
     "metadata": {},
     "output_type": "execute_result"
    }
   ],
   "source": [
    "np.std(matrix_4) # or np.var(matrix_4) "
   ]
  },
  {
   "cell_type": "code",
   "execution_count": 110,
   "id": "1baa90fa",
   "metadata": {},
   "outputs": [
    {
     "data": {
      "text/plain": [
       "array([55, 60, 65, 70, 75])"
      ]
     },
     "execution_count": 110,
     "metadata": {},
     "output_type": "execute_result"
    }
   ],
   "source": [
    "# Get the sum of all the columns in matrix_4\n",
    "matrix_4.sum(axis=0) # sum of all the columns in matrix_4"
   ]
  },
  {
   "cell_type": "code",
   "execution_count": 111,
   "id": "8f39ccea",
   "metadata": {},
   "outputs": [
    {
     "data": {
      "text/plain": [
       "array([ 15,  40,  65,  90, 115])"
      ]
     },
     "execution_count": 111,
     "metadata": {},
     "output_type": "execute_result"
    }
   ],
   "source": [
    "matrix_4.sum(axis=1) # sum of all the rows in matrix_4"
   ]
  },
  {
   "cell_type": "markdown",
   "id": "bd0ec305",
   "metadata": {},
   "source": [
    "**Well, see you later!**"
   ]
  }
 ],
 "metadata": {
  "kernelspec": {
   "display_name": "base",
   "language": "python",
   "name": "python3"
  },
  "language_info": {
   "codemirror_mode": {
    "name": "ipython",
    "version": 3
   },
   "file_extension": ".py",
   "mimetype": "text/x-python",
   "name": "python",
   "nbconvert_exporter": "python",
   "pygments_lexer": "ipython3",
   "version": "3.12.4"
  }
 },
 "nbformat": 4,
 "nbformat_minor": 5
}
