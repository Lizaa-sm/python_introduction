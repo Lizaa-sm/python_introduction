{
 "cells": [
  {
   "cell_type": "markdown",
   "id": "40137b24",
   "metadata": {},
   "source": [
    "## **NumPy Arrays**\n",
    "\n",
    "With NumPy, you can perform numerical operations much faster and more efficiently than with Python’s built-in lists. It provides support for arrays and high-performance mathematical functions. It is widely used in fields such as data science, machine learning, statistics, and image processing."
   ]
  },
  {
   "cell_type": "code",
   "execution_count": 1,
   "id": "b0c6b6dc",
   "metadata": {},
   "outputs": [],
   "source": [
    "# Example:\n",
    "lst1 = [1, 2, 3, 4, 5]"
   ]
  },
  {
   "cell_type": "code",
   "execution_count": 2,
   "id": "925e917b",
   "metadata": {},
   "outputs": [
    {
     "name": "stdout",
     "output_type": "stream",
     "text": [
      "[1 2 3 4 5]\n"
     ]
    }
   ],
   "source": [
    "import numpy as np  \n",
    "var = np.array(lst1)\n",
    "\n",
    "print(var)"
   ]
  },
  {
   "cell_type": "code",
   "execution_count": 3,
   "id": "39658cda",
   "metadata": {},
   "outputs": [
    {
     "name": "stdout",
     "output_type": "stream",
     "text": [
      "[[1 2 3]\n",
      " [4 5 6]\n",
      " [7 8 9]]\n"
     ]
    }
   ],
   "source": [
    "# If I want to assemble a matrix: 2D array\n",
    "matrix_1 = [[1, 2, 3], [4, 5, 6], [7, 8, 9]]\n",
    "\n",
    "matrix_1_np = np.array(matrix_1)\n",
    "\n",
    "print(matrix_1_np)\n"
   ]
  },
  {
   "cell_type": "markdown",
   "id": "50520027",
   "metadata": {},
   "source": [
    "* **Numpy `np.arange()`**\n",
    "\n",
    "Is a function that generates evenly spaced values within a given range, similar to Python’s built-in `range()`, but it returns a NumPy array instead of a list."
   ]
  },
  {
   "cell_type": "code",
   "execution_count": 4,
   "id": "f4408aea",
   "metadata": {},
   "outputs": [
    {
     "data": {
      "text/plain": [
       "array([ 0,  1,  2,  3,  4,  5,  6,  7,  8,  9, 10])"
      ]
     },
     "execution_count": 4,
     "metadata": {},
     "output_type": "execute_result"
    }
   ],
   "source": [
    "# First, use arange to create an array of integers from 0 to 11 \n",
    "np.arange(0,11)"
   ]
  },
  {
   "cell_type": "code",
   "execution_count": 5,
   "id": "0a33566b",
   "metadata": {},
   "outputs": [
    {
     "data": {
      "text/plain": [
       "array([ 0,  2,  4,  6,  8, 10])"
      ]
     },
     "execution_count": 5,
     "metadata": {},
     "output_type": "execute_result"
    }
   ],
   "source": [
    "# Now with step:\n",
    "np.arange(0, 11, 2)  # start, stop, step"
   ]
  },
  {
   "cell_type": "markdown",
   "id": "35560699",
   "metadata": {},
   "source": [
    "* **Creating Matrices**"
   ]
  },
  {
   "cell_type": "code",
   "execution_count": 6,
   "id": "20d4963e",
   "metadata": {},
   "outputs": [
    {
     "data": {
      "text/plain": [
       "array([[0., 0., 0., 0.],\n",
       "       [0., 0., 0., 0.],\n",
       "       [0., 0., 0., 0.]])"
      ]
     },
     "execution_count": 6,
     "metadata": {},
     "output_type": "execute_result"
    }
   ],
   "source": [
    "# You can also create arrays of zeros, using NumPy function like np.zeros().\n",
    "np.zeros((3, 4))  # 3 rows, 4 columns of zeros"
   ]
  },
  {
   "cell_type": "code",
   "execution_count": 7,
   "id": "ba95ac9d",
   "metadata": {},
   "outputs": [
    {
     "data": {
      "text/plain": [
       "array([[1., 1., 1., 1., 1.],\n",
       "       [1., 1., 1., 1., 1.]])"
      ]
     },
     "execution_count": 7,
     "metadata": {},
     "output_type": "execute_result"
    }
   ],
   "source": [
    "np.ones((2, 5))   # 2 rows, 5 columns of ones"
   ]
  },
  {
   "cell_type": "code",
   "execution_count": 8,
   "id": "5a9a3d1e",
   "metadata": {},
   "outputs": [
    {
     "data": {
      "text/plain": [
       "array([[0.73660129, 0.78883577, 0.66053654],\n",
       "       [0.31917952, 0.40266966, 0.43076797],\n",
       "       [0.17725242, 0.82697718, 0.3151717 ]])"
      ]
     },
     "execution_count": 8,
     "metadata": {},
     "output_type": "execute_result"
    }
   ],
   "source": [
    "#np.random.rand(5, 5)  # 5x5 array of random numbers between 0 and 1 or you can specify any shape you want\n",
    "np.random.rand(3, 3)  # 3x3 array of random numbers between 0 and 1"
   ]
  },
  {
   "cell_type": "code",
   "execution_count": 9,
   "id": "9f319847",
   "metadata": {},
   "outputs": [
    {
     "data": {
      "text/plain": [
       "array([[-0.56457027, -0.65399535,  0.44831298],\n",
       "       [-2.17692255, -0.58322197, -0.33567921],\n",
       "       [ 1.83354591, -0.24309589,  0.15696637]])"
      ]
     },
     "execution_count": 9,
     "metadata": {},
     "output_type": "execute_result"
    }
   ],
   "source": [
    "np.random.randn(3, 3)  # 3x3 array of random numbers from the standard normal distribution"
   ]
  },
  {
   "cell_type": "code",
   "execution_count": 10,
   "id": "66dd01ac",
   "metadata": {},
   "outputs": [
    {
     "data": {
      "text/plain": [
       "array([65, 75, 97, 26, 67, 20, 85, 45,  5, 35])"
      ]
     },
     "execution_count": 10,
     "metadata": {},
     "output_type": "execute_result"
    }
   ],
   "source": [
    "# 10 random integers between 0 and 100 with interger values\n",
    "np.random.randint(0, 100, 10) # low, high, number of values"
   ]
  },
  {
   "cell_type": "code",
   "execution_count": 11,
   "id": "9ebbd264",
   "metadata": {},
   "outputs": [
    {
     "data": {
      "text/plain": [
       "array([ 0.        ,  1.42857143,  2.85714286,  4.28571429,  5.71428571,\n",
       "        7.14285714,  8.57142857, 10.        , 11.42857143, 12.85714286,\n",
       "       14.28571429, 15.71428571, 17.14285714, 18.57142857, 20.        ])"
      ]
     },
     "execution_count": 11,
     "metadata": {},
     "output_type": "execute_result"
    }
   ],
   "source": [
    "# You can also create np.linspace() arrays. \n",
    "np.linspace(0, 20, 15)  # start, stop, number of values"
   ]
  },
  {
   "cell_type": "code",
   "execution_count": 12,
   "id": "b1fdff8b",
   "metadata": {},
   "outputs": [
    {
     "data": {
      "text/plain": [
       "array([[1., 0., 0.],\n",
       "       [0., 1., 0.],\n",
       "       [0., 0., 1.]])"
      ]
     },
     "execution_count": 12,
     "metadata": {},
     "output_type": "execute_result"
    }
   ],
   "source": [
    "np.eye(3)  # 4x4 identity matrix"
   ]
  },
  {
   "cell_type": "code",
   "execution_count": 13,
   "id": "6136b0d1",
   "metadata": {},
   "outputs": [
    {
     "data": {
      "text/plain": [
       "array([[0, 1, 2, 3, 4],\n",
       "       [5, 6, 7, 8, 9]])"
      ]
     },
     "execution_count": 13,
     "metadata": {},
     "output_type": "execute_result"
    }
   ],
   "source": [
    "# np.reshape arrays change shape of array without changing its data\n",
    "arr = np.arange(0, 10) # 1D array with 25 elements\n",
    "arr.reshape(2, 5)  # 2 rows, 5 columns     \n"
   ]
  },
  {
   "cell_type": "code",
   "execution_count": 14,
   "id": "f300ebbd",
   "metadata": {},
   "outputs": [
    {
     "data": {
      "text/plain": [
       "array([[0, 1, 2, 3, 4, 5, 6, 7, 8, 9]])"
      ]
     },
     "execution_count": 14,
     "metadata": {},
     "output_type": "execute_result"
    }
   ],
   "source": [
    "arr.reshape(1, 10)  # 1 row, 10 columns"
   ]
  },
  {
   "cell_type": "code",
   "execution_count": 15,
   "id": "4a98daf5",
   "metadata": {},
   "outputs": [
    {
     "data": {
      "text/plain": [
       "array([[0],\n",
       "       [1],\n",
       "       [2],\n",
       "       [3],\n",
       "       [4],\n",
       "       [5],\n",
       "       [6],\n",
       "       [7],\n",
       "       [8],\n",
       "       [9]])"
      ]
     },
     "execution_count": 15,
     "metadata": {},
     "output_type": "execute_result"
    }
   ],
   "source": [
    "arr.reshape(10, 1)  # 10 rows, 1 column"
   ]
  },
  {
   "cell_type": "markdown",
   "id": "98d23f72",
   "metadata": {},
   "source": [
    "* **Maximum and Minimum Numbers**"
   ]
  },
  {
   "cell_type": "code",
   "execution_count": 16,
   "id": "0b4a1493",
   "metadata": {},
   "outputs": [
    {
     "data": {
      "text/plain": [
       "25"
      ]
     },
     "execution_count": 16,
     "metadata": {},
     "output_type": "execute_result"
    }
   ],
   "source": [
    "new_arr = np.arange(19, 26)\n",
    "new_arr.max()  # maximum value in the array\n"
   ]
  },
  {
   "cell_type": "code",
   "execution_count": 17,
   "id": "c4c9bac9",
   "metadata": {},
   "outputs": [
    {
     "data": {
      "text/plain": [
       "19"
      ]
     },
     "execution_count": 17,
     "metadata": {},
     "output_type": "execute_result"
    }
   ],
   "source": [
    "new_arr.min()  # minimum value in the array"
   ]
  },
  {
   "cell_type": "code",
   "execution_count": 18,
   "id": "68665083",
   "metadata": {},
   "outputs": [
    {
     "data": {
      "text/plain": [
       "array([19, 20, 21, 22, 23, 24, 25])"
      ]
     },
     "execution_count": 18,
     "metadata": {},
     "output_type": "execute_result"
    }
   ],
   "source": [
    "new_arr"
   ]
  },
  {
   "cell_type": "code",
   "execution_count": 19,
   "id": "1d335f10",
   "metadata": {},
   "outputs": [
    {
     "data": {
      "text/plain": [
       "6"
      ]
     },
     "execution_count": 19,
     "metadata": {},
     "output_type": "execute_result"
    }
   ],
   "source": [
    "new_arr.argmax()  # index of maximum value in the array\n",
    "# It 6 because 25 is the maximum value and its index is 6"
   ]
  },
  {
   "cell_type": "code",
   "execution_count": 20,
   "id": "539e58f9",
   "metadata": {},
   "outputs": [
    {
     "data": {
      "text/plain": [
       "0"
      ]
     },
     "execution_count": 20,
     "metadata": {},
     "output_type": "execute_result"
    }
   ],
   "source": [
    "new_arr.argmin()  # index of minimum value in the array\n",
    "# It 0 because 19 is the minimum value and its index is 0"
   ]
  },
  {
   "cell_type": "code",
   "execution_count": 21,
   "id": "e8e705b1",
   "metadata": {},
   "outputs": [
    {
     "data": {
      "text/plain": [
       "(7,)"
      ]
     },
     "execution_count": 21,
     "metadata": {},
     "output_type": "execute_result"
    }
   ],
   "source": [
    "new_arr.shape  # shape of the array (number of elements in each dimension)"
   ]
  },
  {
   "cell_type": "code",
   "execution_count": 22,
   "id": "5f65ceb7",
   "metadata": {},
   "outputs": [
    {
     "data": {
      "text/plain": [
       "array([[19, 20, 21, 22, 23, 24, 25]])"
      ]
     },
     "execution_count": 22,
     "metadata": {},
     "output_type": "execute_result"
    }
   ],
   "source": [
    "new = new_arr.reshape(1, 7)  # reshape to 1 row, 7 columns\n",
    "new # shape of the new array"
   ]
  },
  {
   "cell_type": "code",
   "execution_count": 23,
   "id": "78c6f011",
   "metadata": {},
   "outputs": [
    {
     "data": {
      "text/plain": [
       "(1, 7)"
      ]
     },
     "execution_count": 23,
     "metadata": {},
     "output_type": "execute_result"
    }
   ],
   "source": [
    "new.shape  # shape of the new array"
   ]
  },
  {
   "cell_type": "code",
   "execution_count": 24,
   "id": "ea7063bc",
   "metadata": {},
   "outputs": [
    {
     "data": {
      "text/plain": [
       "dtype('int32')"
      ]
     },
     "execution_count": 24,
     "metadata": {},
     "output_type": "execute_result"
    }
   ],
   "source": [
    "new_arr.dtype"
   ]
  },
  {
   "cell_type": "code",
   "execution_count": 25,
   "id": "30b7e6b8",
   "metadata": {},
   "outputs": [
    {
     "data": {
      "text/plain": [
       "array([75, 58, 53, 56, 70])"
      ]
     },
     "execution_count": 25,
     "metadata": {},
     "output_type": "execute_result"
    }
   ],
   "source": [
    "from numpy.random import randint\n",
    "randint(0, 100, 5) # start, stop, number of values\n",
    "# Create a 1-D array of 5 random integers from 0 to 100"
   ]
  },
  {
   "cell_type": "code",
   "execution_count": 26,
   "id": "b80b5d6d",
   "metadata": {},
   "outputs": [
    {
     "data": {
      "text/plain": [
       "0"
      ]
     },
     "execution_count": 26,
     "metadata": {},
     "output_type": "execute_result"
    }
   ],
   "source": [
    "randint(0,10) # single random integer from 0 to 10"
   ]
  }
 ],
 "metadata": {
  "kernelspec": {
   "display_name": "base",
   "language": "python",
   "name": "python3"
  },
  "language_info": {
   "codemirror_mode": {
    "name": "ipython",
    "version": 3
   },
   "file_extension": ".py",
   "mimetype": "text/x-python",
   "name": "python",
   "nbconvert_exporter": "python",
   "pygments_lexer": "ipython3",
   "version": "3.12.4"
  }
 },
 "nbformat": 4,
 "nbformat_minor": 5
}
