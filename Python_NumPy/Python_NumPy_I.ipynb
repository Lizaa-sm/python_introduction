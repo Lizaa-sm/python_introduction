{
 "cells": [
  {
   "cell_type": "markdown",
   "id": "40137b24",
   "metadata": {},
   "source": [
    "## **NumPy Arrays**\n",
    "\n",
    "With NumPy, you can perform numerical operations much faster and more efficiently than with Python’s built-in lists. It provides support for arrays and high-performance mathematical functions. It is widely used in fields such as data science, machine learning, statistics, and image processing."
   ]
  },
  {
   "cell_type": "code",
   "execution_count": 198,
   "id": "b0c6b6dc",
   "metadata": {},
   "outputs": [],
   "source": [
    "# Example:\n",
    "lst1 = [1, 2, 3, 4, 5]"
   ]
  },
  {
   "cell_type": "code",
   "execution_count": 199,
   "id": "925e917b",
   "metadata": {},
   "outputs": [
    {
     "name": "stdout",
     "output_type": "stream",
     "text": [
      "[1 2 3 4 5]\n"
     ]
    }
   ],
   "source": [
    "import numpy as np  \n",
    "var = np.array(lst1)\n",
    "\n",
    "print(var)"
   ]
  },
  {
   "cell_type": "code",
   "execution_count": 200,
   "id": "39658cda",
   "metadata": {},
   "outputs": [
    {
     "name": "stdout",
     "output_type": "stream",
     "text": [
      "[[1 2 3]\n",
      " [4 5 6]\n",
      " [7 8 9]]\n"
     ]
    }
   ],
   "source": [
    "# If I want to assemble a matrix: 2D array\n",
    "matrix_1 = [[1, 2, 3], [4, 5, 6], [7, 8, 9]]\n",
    "\n",
    "matrix_1_np = np.array(matrix_1)\n",
    "\n",
    "print(matrix_1_np)\n"
   ]
  },
  {
   "cell_type": "markdown",
   "id": "50520027",
   "metadata": {},
   "source": [
    "* **Numpy `np.arange()`**\n",
    "\n",
    "Is a function that generates evenly spaced values within a given range, similar to Python’s built-in `range()`, but it returns a NumPy array instead of a list."
   ]
  },
  {
   "cell_type": "code",
   "execution_count": 201,
   "id": "f4408aea",
   "metadata": {},
   "outputs": [
    {
     "data": {
      "text/plain": [
       "array([ 0,  1,  2,  3,  4,  5,  6,  7,  8,  9, 10])"
      ]
     },
     "execution_count": 201,
     "metadata": {},
     "output_type": "execute_result"
    }
   ],
   "source": [
    "# First, use arange to create an array of integers from 0 to 11 \n",
    "np.arange(0,11)"
   ]
  },
  {
   "cell_type": "code",
   "execution_count": 202,
   "id": "0a33566b",
   "metadata": {},
   "outputs": [
    {
     "data": {
      "text/plain": [
       "array([ 0,  2,  4,  6,  8, 10])"
      ]
     },
     "execution_count": 202,
     "metadata": {},
     "output_type": "execute_result"
    }
   ],
   "source": [
    "# Now with step:\n",
    "np.arange(0, 11, 2)  # start, stop, step"
   ]
  },
  {
   "cell_type": "markdown",
   "id": "35560699",
   "metadata": {},
   "source": [
    "* **Creating Matrices**"
   ]
  },
  {
   "cell_type": "code",
   "execution_count": 203,
   "id": "20d4963e",
   "metadata": {},
   "outputs": [
    {
     "data": {
      "text/plain": [
       "array([[0., 0., 0., 0.],\n",
       "       [0., 0., 0., 0.],\n",
       "       [0., 0., 0., 0.]])"
      ]
     },
     "execution_count": 203,
     "metadata": {},
     "output_type": "execute_result"
    }
   ],
   "source": [
    "# You can also create arrays of zeros, using NumPy function like np.zeros().\n",
    "np.zeros((3, 4))  # 3 rows, 4 columns of zeros"
   ]
  },
  {
   "cell_type": "code",
   "execution_count": 204,
   "id": "ba95ac9d",
   "metadata": {},
   "outputs": [
    {
     "data": {
      "text/plain": [
       "array([[1., 1., 1., 1., 1.],\n",
       "       [1., 1., 1., 1., 1.]])"
      ]
     },
     "execution_count": 204,
     "metadata": {},
     "output_type": "execute_result"
    }
   ],
   "source": [
    "np.ones((2, 5))   # 2 rows, 5 columns of ones"
   ]
  },
  {
   "cell_type": "code",
   "execution_count": 205,
   "id": "5a9a3d1e",
   "metadata": {},
   "outputs": [
    {
     "data": {
      "text/plain": [
       "array([[0.53487195, 0.23238895, 0.27906545],\n",
       "       [0.54495024, 0.22022647, 0.81621306],\n",
       "       [0.98234419, 0.90671167, 0.88942588]])"
      ]
     },
     "execution_count": 205,
     "metadata": {},
     "output_type": "execute_result"
    }
   ],
   "source": [
    "#np.random.rand(5, 5)  # 5x5 array of random numbers between 0 and 1 or you can specify any shape you want\n",
    "np.random.rand(3, 3)  # 3x3 array of random numbers between 0 and 1"
   ]
  },
  {
   "cell_type": "code",
   "execution_count": 206,
   "id": "9f319847",
   "metadata": {},
   "outputs": [
    {
     "data": {
      "text/plain": [
       "array([[-1.18206016,  1.77792545,  0.46280305],\n",
       "       [ 0.8047384 , -0.66349842,  0.58697989],\n",
       "       [-0.08819719,  1.48961402,  0.21245712]])"
      ]
     },
     "execution_count": 206,
     "metadata": {},
     "output_type": "execute_result"
    }
   ],
   "source": [
    "np.random.randn(3, 3)  # 3x3 array of random numbers from the standard normal distribution"
   ]
  },
  {
   "cell_type": "code",
   "execution_count": 207,
   "id": "66dd01ac",
   "metadata": {},
   "outputs": [
    {
     "data": {
      "text/plain": [
       "array([98, 47, 82, 20, 31, 33, 91,  3, 19, 12])"
      ]
     },
     "execution_count": 207,
     "metadata": {},
     "output_type": "execute_result"
    }
   ],
   "source": [
    "# 10 random integers between 0 and 100 with interger values\n",
    "np.random.randint(0, 100, 10) # low, high, number of values"
   ]
  },
  {
   "cell_type": "code",
   "execution_count": 208,
   "id": "9ebbd264",
   "metadata": {},
   "outputs": [
    {
     "data": {
      "text/plain": [
       "array([ 0.        ,  1.42857143,  2.85714286,  4.28571429,  5.71428571,\n",
       "        7.14285714,  8.57142857, 10.        , 11.42857143, 12.85714286,\n",
       "       14.28571429, 15.71428571, 17.14285714, 18.57142857, 20.        ])"
      ]
     },
     "execution_count": 208,
     "metadata": {},
     "output_type": "execute_result"
    }
   ],
   "source": [
    "# You can also create np.linspace() arrays. \n",
    "np.linspace(0, 20, 15)  # start, stop, number of values"
   ]
  },
  {
   "cell_type": "code",
   "execution_count": 209,
   "id": "b1fdff8b",
   "metadata": {},
   "outputs": [
    {
     "data": {
      "text/plain": [
       "array([[1., 0., 0.],\n",
       "       [0., 1., 0.],\n",
       "       [0., 0., 1.]])"
      ]
     },
     "execution_count": 209,
     "metadata": {},
     "output_type": "execute_result"
    }
   ],
   "source": [
    "np.eye(3)  # 4x4 identity matrix"
   ]
  },
  {
   "cell_type": "code",
   "execution_count": 210,
   "id": "6136b0d1",
   "metadata": {},
   "outputs": [
    {
     "data": {
      "text/plain": [
       "array([[0, 1, 2, 3, 4],\n",
       "       [5, 6, 7, 8, 9]])"
      ]
     },
     "execution_count": 210,
     "metadata": {},
     "output_type": "execute_result"
    }
   ],
   "source": [
    "# np.reshape arrays change shape of array without changing its data\n",
    "arr = np.arange(0, 10) # 1D array with 25 elements\n",
    "arr.reshape(2, 5)  # 2 rows, 5 columns     \n"
   ]
  },
  {
   "cell_type": "code",
   "execution_count": 211,
   "id": "f300ebbd",
   "metadata": {},
   "outputs": [
    {
     "data": {
      "text/plain": [
       "array([[0, 1, 2, 3, 4, 5, 6, 7, 8, 9]])"
      ]
     },
     "execution_count": 211,
     "metadata": {},
     "output_type": "execute_result"
    }
   ],
   "source": [
    "arr.reshape(1, 10)  # 1 row, 10 columns"
   ]
  },
  {
   "cell_type": "code",
   "execution_count": 212,
   "id": "4a98daf5",
   "metadata": {},
   "outputs": [
    {
     "data": {
      "text/plain": [
       "array([[0],\n",
       "       [1],\n",
       "       [2],\n",
       "       [3],\n",
       "       [4],\n",
       "       [5],\n",
       "       [6],\n",
       "       [7],\n",
       "       [8],\n",
       "       [9]])"
      ]
     },
     "execution_count": 212,
     "metadata": {},
     "output_type": "execute_result"
    }
   ],
   "source": [
    "arr.reshape(10, 1)  # 10 rows, 1 column"
   ]
  },
  {
   "cell_type": "markdown",
   "id": "98d23f72",
   "metadata": {},
   "source": [
    "* **Maximum and Minimum Numbers**"
   ]
  },
  {
   "cell_type": "code",
   "execution_count": 213,
   "id": "0b4a1493",
   "metadata": {},
   "outputs": [
    {
     "data": {
      "text/plain": [
       "25"
      ]
     },
     "execution_count": 213,
     "metadata": {},
     "output_type": "execute_result"
    }
   ],
   "source": [
    "new_arr = np.arange(19, 26)\n",
    "new_arr.max()  # maximum value in the array\n"
   ]
  },
  {
   "cell_type": "code",
   "execution_count": 214,
   "id": "c4c9bac9",
   "metadata": {},
   "outputs": [
    {
     "data": {
      "text/plain": [
       "19"
      ]
     },
     "execution_count": 214,
     "metadata": {},
     "output_type": "execute_result"
    }
   ],
   "source": [
    "new_arr.min()  # minimum value in the array"
   ]
  },
  {
   "cell_type": "code",
   "execution_count": 215,
   "id": "68665083",
   "metadata": {},
   "outputs": [
    {
     "data": {
      "text/plain": [
       "array([19, 20, 21, 22, 23, 24, 25])"
      ]
     },
     "execution_count": 215,
     "metadata": {},
     "output_type": "execute_result"
    }
   ],
   "source": [
    "new_arr"
   ]
  },
  {
   "cell_type": "code",
   "execution_count": 216,
   "id": "1d335f10",
   "metadata": {},
   "outputs": [
    {
     "data": {
      "text/plain": [
       "6"
      ]
     },
     "execution_count": 216,
     "metadata": {},
     "output_type": "execute_result"
    }
   ],
   "source": [
    "new_arr.argmax()  # index of maximum value in the array\n",
    "# It 6 because 25 is the maximum value and its index is 6"
   ]
  },
  {
   "cell_type": "code",
   "execution_count": 217,
   "id": "539e58f9",
   "metadata": {},
   "outputs": [
    {
     "data": {
      "text/plain": [
       "0"
      ]
     },
     "execution_count": 217,
     "metadata": {},
     "output_type": "execute_result"
    }
   ],
   "source": [
    "new_arr.argmin()  # index of minimum value in the array\n",
    "# It 0 because 19 is the minimum value and its index is 0"
   ]
  },
  {
   "cell_type": "code",
   "execution_count": 218,
   "id": "e8e705b1",
   "metadata": {},
   "outputs": [
    {
     "data": {
      "text/plain": [
       "(7,)"
      ]
     },
     "execution_count": 218,
     "metadata": {},
     "output_type": "execute_result"
    }
   ],
   "source": [
    "new_arr.shape  # shape of the array (number of elements in each dimension)"
   ]
  },
  {
   "cell_type": "code",
   "execution_count": 219,
   "id": "5f65ceb7",
   "metadata": {},
   "outputs": [
    {
     "data": {
      "text/plain": [
       "array([[19, 20, 21, 22, 23, 24, 25]])"
      ]
     },
     "execution_count": 219,
     "metadata": {},
     "output_type": "execute_result"
    }
   ],
   "source": [
    "new = new_arr.reshape(1, 7)  # reshape to 1 row, 7 columns\n",
    "new # shape of the new array"
   ]
  },
  {
   "cell_type": "code",
   "execution_count": 220,
   "id": "78c6f011",
   "metadata": {},
   "outputs": [
    {
     "data": {
      "text/plain": [
       "(1, 7)"
      ]
     },
     "execution_count": 220,
     "metadata": {},
     "output_type": "execute_result"
    }
   ],
   "source": [
    "new.shape  # shape of the new array"
   ]
  },
  {
   "cell_type": "code",
   "execution_count": 221,
   "id": "ea7063bc",
   "metadata": {},
   "outputs": [
    {
     "data": {
      "text/plain": [
       "dtype('int32')"
      ]
     },
     "execution_count": 221,
     "metadata": {},
     "output_type": "execute_result"
    }
   ],
   "source": [
    "new_arr.dtype"
   ]
  },
  {
   "cell_type": "code",
   "execution_count": 222,
   "id": "30b7e6b8",
   "metadata": {},
   "outputs": [
    {
     "data": {
      "text/plain": [
       "array([17, 12, 48, 73, 21])"
      ]
     },
     "execution_count": 222,
     "metadata": {},
     "output_type": "execute_result"
    }
   ],
   "source": [
    "from numpy.random import randint\n",
    "randint(0, 100, 5) # start, stop, number of values\n",
    "# Create a 1-D array of 5 random integers from 0 to 100"
   ]
  },
  {
   "cell_type": "code",
   "execution_count": 223,
   "id": "b80b5d6d",
   "metadata": {},
   "outputs": [
    {
     "data": {
      "text/plain": [
       "6"
      ]
     },
     "execution_count": 223,
     "metadata": {},
     "output_type": "execute_result"
    }
   ],
   "source": [
    "randint(0,10) # single random integer from 0 to 10"
   ]
  }
 ],
 "metadata": {
  "kernelspec": {
   "display_name": "base",
   "language": "python",
   "name": "python3"
  },
  "language_info": {
   "codemirror_mode": {
    "name": "ipython",
    "version": 3
   },
   "file_extension": ".py",
   "mimetype": "text/x-python",
   "name": "python",
   "nbconvert_exporter": "python",
   "pygments_lexer": "ipython3",
   "version": "3.12.4"
  }
 },
 "nbformat": 4,
 "nbformat_minor": 5
}
