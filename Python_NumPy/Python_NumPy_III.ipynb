{
 "cells": [
  {
   "cell_type": "markdown",
   "id": "25f64735",
   "metadata": {},
   "source": [
    "## **Continuation of NumPy Operations**"
   ]
  },
  {
   "cell_type": "code",
   "execution_count": 23,
   "id": "d6d1d203",
   "metadata": {},
   "outputs": [],
   "source": [
    "import numpy as np"
   ]
  },
  {
   "cell_type": "markdown",
   "id": "f6795998",
   "metadata": {},
   "source": [
    "* **Starting Array with Array**\n",
    "\n",
    "\"Array with array\" indexing means you can use another array of indices to extract or modify specific elements. Works in 1D, 2D, and higher dimensions. Very useful for selecting multiple positions at once."
   ]
  },
  {
   "cell_type": "code",
   "execution_count": 24,
   "id": "a7590cf2",
   "metadata": {},
   "outputs": [
    {
     "data": {
      "text/plain": [
       "array([ 0,  1,  2,  3,  4,  5,  6,  7,  8,  9, 10])"
      ]
     },
     "execution_count": 24,
     "metadata": {},
     "output_type": "execute_result"
    }
   ],
   "source": [
    "new_arr_I = np.arange(0,11)\n",
    "new_arr_I"
   ]
  },
  {
   "cell_type": "code",
   "execution_count": 25,
   "id": "ca027c7b",
   "metadata": {},
   "outputs": [
    {
     "data": {
      "text/plain": [
       "array([ 0,  2,  4,  6,  8, 10, 12, 14, 16, 18, 20])"
      ]
     },
     "execution_count": 25,
     "metadata": {},
     "output_type": "execute_result"
    }
   ],
   "source": [
    "new_arr_I + new_arr_I # element-wise addition\n",
    "\n",
    "# You can also do subtraction, multiplication, division, etc."
   ]
  },
  {
   "cell_type": "code",
   "execution_count": 26,
   "id": "71185372",
   "metadata": {},
   "outputs": [
    {
     "data": {
      "text/plain": [
       "array([1000, 1001, 1002, 1003, 1004, 1005, 1006, 1007, 1008, 1009, 1010])"
      ]
     },
     "execution_count": 26,
     "metadata": {},
     "output_type": "execute_result"
    }
   ],
   "source": [
    "# You can also do\n",
    "new_arr_I + 1000\n",
    "# and apply other math functions like subtraction, multiplication, division, square root, etc."
   ]
  },
  {
   "cell_type": "code",
   "execution_count": 27,
   "id": "b34a4b69",
   "metadata": {},
   "outputs": [
    {
     "data": {
      "text/plain": [
       "array([0, 1, 2, 3, 4, 5])"
      ]
     },
     "execution_count": 27,
     "metadata": {},
     "output_type": "execute_result"
    }
   ],
   "source": [
    "# let's move foward to some more advanced operations\n",
    "new_arr_II = np.arange(0,6)\n",
    "new_arr_II"
   ]
  },
  {
   "cell_type": "code",
   "execution_count": 28,
   "id": "30b72e94",
   "metadata": {},
   "outputs": [
    {
     "data": {
      "text/plain": [
       "array([0.        , 1.        , 1.41421356, 1.73205081, 2.        ,\n",
       "       2.23606798])"
      ]
     },
     "execution_count": 28,
     "metadata": {},
     "output_type": "execute_result"
    }
   ],
   "source": [
    "np.sqrt(new_arr_II) # square root of each element"
   ]
  },
  {
   "cell_type": "code",
   "execution_count": 29,
   "id": "d118b7c9",
   "metadata": {},
   "outputs": [
    {
     "data": {
      "text/plain": [
       "array([  1.        ,   2.71828183,   7.3890561 ,  20.08553692,\n",
       "        54.59815003, 148.4131591 ])"
      ]
     },
     "execution_count": 29,
     "metadata": {},
     "output_type": "execute_result"
    }
   ],
   "source": [
    "np.exp(new_arr_II) # exponent of each element"
   ]
  },
  {
   "cell_type": "code",
   "execution_count": 30,
   "id": "a5fc9f47",
   "metadata": {},
   "outputs": [
    {
     "data": {
      "text/plain": [
       "5"
      ]
     },
     "execution_count": 30,
     "metadata": {},
     "output_type": "execute_result"
    }
   ],
   "source": [
    "np.max(new_arr_II) # maximum value in the array\n",
    "# np.min(), np.mean(), np.median(), np.std() also work similarly"
   ]
  },
  {
   "cell_type": "code",
   "execution_count": 31,
   "id": "735e4bd2",
   "metadata": {},
   "outputs": [
    {
     "data": {
      "text/plain": [
       "array([ 0.        ,  0.84147098,  0.90929743,  0.14112001, -0.7568025 ,\n",
       "       -0.95892427])"
      ]
     },
     "execution_count": 31,
     "metadata": {},
     "output_type": "execute_result"
    }
   ],
   "source": [
    "# You can also use trigonometric functions\n",
    "np.sin(new_arr_II) # sine of each element (in radians)\n",
    "# np.cos(), np.tan(), np.arcsin(), np.arccos(), np.arctan() also work similarly"
   ]
  },
  {
   "cell_type": "code",
   "execution_count": 32,
   "id": "c28069a4",
   "metadata": {},
   "outputs": [
    {
     "name": "stderr",
     "output_type": "stream",
     "text": [
      "C:\\Users\\monin\\AppData\\Local\\Temp\\ipykernel_16284\\3971796903.py:1: RuntimeWarning: divide by zero encountered in log\n",
      "  np.log(new_arr_II) # natural logarithm of each element\n"
     ]
    },
    {
     "data": {
      "text/plain": [
       "array([      -inf, 0.        , 0.69314718, 1.09861229, 1.38629436,\n",
       "       1.60943791])"
      ]
     },
     "execution_count": 32,
     "metadata": {},
     "output_type": "execute_result"
    }
   ],
   "source": [
    "np.log(new_arr_II) # natural logarithm of each element\n",
    "# Here np.log(0) will return -inf (negative infinity) since the logarithm of zero is undefined"
   ]
  },
  {
   "cell_type": "markdown",
   "id": "04fff658",
   "metadata": {},
   "source": [
    "* You can also find a lot of relevant information through the following **link**: \"\\https://numpy.org/doc/stable/user/index.html#user\"\\ "
   ]
  },
  {
   "cell_type": "markdown",
   "id": "f7f8392e",
   "metadata": {},
   "source": [
    "* **General summary:**\n",
    "\n",
    "* Array with Array: operations between arrays.\n",
    "\n",
    "* Array with Scalars: operations between an array and a single number.\n",
    "\n",
    "* Ufuncs: optimized NumPy functions for mathematical, statistical, and trigonometric operations."
   ]
  }
 ],
 "metadata": {
  "kernelspec": {
   "display_name": "base",
   "language": "python",
   "name": "python3"
  },
  "language_info": {
   "codemirror_mode": {
    "name": "ipython",
    "version": 3
   },
   "file_extension": ".py",
   "mimetype": "text/x-python",
   "name": "python",
   "nbconvert_exporter": "python",
   "pygments_lexer": "ipython3",
   "version": "3.12.4"
  }
 },
 "nbformat": 4,
 "nbformat_minor": 5
}
