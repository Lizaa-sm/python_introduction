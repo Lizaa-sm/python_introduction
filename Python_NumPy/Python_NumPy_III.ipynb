{
 "cells": [
  {
   "cell_type": "markdown",
   "id": "25f64735",
   "metadata": {},
   "source": [
    "## Continuation of NumPy Operations"
   ]
  },
  {
   "cell_type": "code",
   "execution_count": 2,
   "id": "d6d1d203",
   "metadata": {},
   "outputs": [],
   "source": [
    "import numpy as np"
   ]
  },
  {
   "cell_type": "markdown",
   "id": "f6795998",
   "metadata": {},
   "source": [
    "** Starting Array with Array\n",
    "\n",
    "\"Array with array\" indexing means you can use another array of indices to extract or modify specific elements. Works in 1D, 2D, and higher dimensions. Very useful for selecting multiple positions at once."
   ]
  },
  {
   "cell_type": "code",
   "execution_count": null,
   "id": "a7590cf2",
   "metadata": {},
   "outputs": [],
   "source": []
  }
 ],
 "metadata": {
  "kernelspec": {
   "display_name": "base",
   "language": "python",
   "name": "python3"
  },
  "language_info": {
   "codemirror_mode": {
    "name": "ipython",
    "version": 3
   },
   "file_extension": ".py",
   "mimetype": "text/x-python",
   "name": "python",
   "nbconvert_exporter": "python",
   "pygments_lexer": "ipython3",
   "version": "3.12.4"
  }
 },
 "nbformat": 4,
 "nbformat_minor": 5
}
