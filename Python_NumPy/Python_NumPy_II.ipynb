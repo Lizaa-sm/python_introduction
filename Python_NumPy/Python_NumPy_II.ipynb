{
 "cells": [
  {
   "cell_type": "markdown",
   "id": "ff952de2",
   "metadata": {},
   "source": [
    "## **Continuing with the NumPy Library.**"
   ]
  },
  {
   "cell_type": "code",
   "execution_count": 72,
   "id": "b22df7c6",
   "metadata": {},
   "outputs": [],
   "source": [
    "# Start:\n",
    "import numpy as np"
   ]
  },
  {
   "cell_type": "code",
   "execution_count": 73,
   "id": "aff0057d",
   "metadata": {},
   "outputs": [
    {
     "name": "stdout",
     "output_type": "stream",
     "text": [
      "[ 0  1  2  3  4  5  6  7  8  9 10]\n"
     ]
    }
   ],
   "source": [
    "# Recapitulation\n",
    "lst = np.arange(0,11)\n",
    "print(lst)"
   ]
  },
  {
   "cell_type": "code",
   "execution_count": 74,
   "id": "80f43db4",
   "metadata": {},
   "outputs": [
    {
     "data": {
      "text/plain": [
       "4"
      ]
     },
     "execution_count": 74,
     "metadata": {},
     "output_type": "execute_result"
    }
   ],
   "source": [
    "# For finding elements in a list/array\n",
    "lst[4]  # indexing"
   ]
  },
  {
   "cell_type": "code",
   "execution_count": 75,
   "id": "824dfdcb",
   "metadata": {},
   "outputs": [
    {
     "data": {
      "text/plain": [
       "array([1, 2, 3, 4])"
      ]
     },
     "execution_count": 75,
     "metadata": {},
     "output_type": "execute_result"
    }
   ],
   "source": [
    "# For finding multiple elements in a list/array\n",
    "lst[1:5]  # slicing"
   ]
  },
  {
   "cell_type": "code",
   "execution_count": 76,
   "id": "b3e337bd",
   "metadata": {},
   "outputs": [
    {
     "data": {
      "text/plain": [
       "array([0, 1, 2, 3, 4, 5, 6])"
      ]
     },
     "execution_count": 76,
     "metadata": {},
     "output_type": "execute_result"
    }
   ],
   "source": [
    "# Another way to do this:  \n",
    "lst[:7] # from start to index 7 (not included)"
   ]
  },
  {
   "cell_type": "code",
   "execution_count": 77,
   "id": "7c76a7b5",
   "metadata": {},
   "outputs": [
    {
     "data": {
      "text/plain": [
       "array([ 4,  5,  6,  7,  8,  9, 10])"
      ]
     },
     "execution_count": 77,
     "metadata": {},
     "output_type": "execute_result"
    }
   ],
   "source": [
    "# You can also do this:\n",
    "lst[4:]  # from index 4 to the end"
   ]
  },
  {
   "cell_type": "code",
   "execution_count": 78,
   "id": "e505ac19",
   "metadata": {},
   "outputs": [
    {
     "data": {
      "text/plain": [
       "array([50, 50, 50, 50,  4,  5,  6,  7,  8,  9, 10])"
      ]
     },
     "execution_count": 78,
     "metadata": {},
     "output_type": "execute_result"
    }
   ],
   "source": [
    "# Continue with the lesson...\n",
    "lst[0:4] = 50 # changing values in an array\n",
    "lst"
   ]
  },
  {
   "cell_type": "code",
   "execution_count": 79,
   "id": "d699016d",
   "metadata": {},
   "outputs": [
    {
     "data": {
      "text/plain": [
       "array([ 0,  1,  2,  3,  4,  5,  6,  7,  8,  9, 10])"
      ]
     },
     "execution_count": 79,
     "metadata": {},
     "output_type": "execute_result"
    }
   ],
   "source": [
    "# let's see the next example: slice arrays\n",
    "ar = np.arange(0,11)\n",
    "ar"
   ]
  },
  {
   "cell_type": "code",
   "execution_count": 80,
   "id": "d95e0542",
   "metadata": {},
   "outputs": [
    {
     "data": {
      "text/plain": [
       "array([0, 1, 2, 3, 4])"
      ]
     },
     "execution_count": 80,
     "metadata": {},
     "output_type": "execute_result"
    }
   ],
   "source": [
    "slice_ar = ar[0:5]  #    \n",
    "slice_ar"
   ]
  },
  {
   "cell_type": "code",
   "execution_count": 81,
   "id": "3787f74b",
   "metadata": {},
   "outputs": [
    {
     "data": {
      "text/plain": [
       "array([55, 55, 55, 55, 55])"
      ]
     },
     "execution_count": 81,
     "metadata": {},
     "output_type": "execute_result"
    }
   ],
   "source": [
    "slice_ar[:] = 55  # this changes the original array too!\n",
    "slice_ar"
   ]
  },
  {
   "cell_type": "code",
   "execution_count": 82,
   "id": "5be2d4c8",
   "metadata": {},
   "outputs": [
    {
     "data": {
      "text/plain": [
       "array([55, 55, 55, 55, 55,  5,  6,  7,  8,  9, 10])"
      ]
     },
     "execution_count": 82,
     "metadata": {},
     "output_type": "execute_result"
    }
   ],
   "source": [
    "ar"
   ]
  },
  {
   "cell_type": "code",
   "execution_count": 83,
   "id": "25d7ff68",
   "metadata": {},
   "outputs": [
    {
     "data": {
      "text/plain": [
       "array([55, 55, 55, 55, 55,  5,  6,  7,  8,  9, 10])"
      ]
     },
     "execution_count": 83,
     "metadata": {},
     "output_type": "execute_result"
    }
   ],
   "source": [
    "# Now .copy() to avoid this\n",
    "ar_copy = ar.copy() # this creates a copy of the array\n",
    "ar_copy"
   ]
  },
  {
   "cell_type": "code",
   "execution_count": 84,
   "id": "616456a4",
   "metadata": {},
   "outputs": [
    {
     "data": {
      "text/plain": [
       "array([99, 99, 99, 99, 99, 99, 99, 99, 99, 99, 99])"
      ]
     },
     "execution_count": 84,
     "metadata": {},
     "output_type": "execute_result"
    }
   ],
   "source": [
    "# It's possible to do this:\n",
    "ar_copy[:] = 99\n",
    "ar_copy"
   ]
  },
  {
   "cell_type": "code",
   "execution_count": 85,
   "id": "08b94d09",
   "metadata": {},
   "outputs": [
    {
     "data": {
      "text/plain": [
       "array([[1, 2, 3],\n",
       "       [4, 5, 6],\n",
       "       [7, 8, 9]])"
      ]
     },
     "execution_count": 85,
     "metadata": {},
     "output_type": "execute_result"
    }
   ],
   "source": [
    "# Next, let's see how to index a 2D array\n",
    "ar_mt = np.array([[1,2,3],[4,5,6],[7,8,9]]) # \n",
    "ar_mt"
   ]
  },
  {
   "cell_type": "code",
   "execution_count": 86,
   "id": "86fe2121",
   "metadata": {},
   "outputs": [
    {
     "data": {
      "text/plain": [
       "1"
      ]
     },
     "execution_count": 86,
     "metadata": {},
     "output_type": "execute_result"
    }
   ],
   "source": [
    "# Finding a specific element in a 2D array\n",
    "ar_mt[0][0]"
   ]
  },
  {
   "cell_type": "code",
   "execution_count": 87,
   "id": "b4864d53",
   "metadata": {},
   "outputs": [
    {
     "data": {
      "text/plain": [
       "array([1, 2, 3])"
      ]
     },
     "execution_count": 87,
     "metadata": {},
     "output_type": "execute_result"
    }
   ],
   "source": [
    "ar_mt[0]"
   ]
  },
  {
   "cell_type": "code",
   "execution_count": 88,
   "id": "56d0e29b",
   "metadata": {},
   "outputs": [
    {
     "data": {
      "text/plain": [
       "8"
      ]
     },
     "execution_count": 88,
     "metadata": {},
     "output_type": "execute_result"
    }
   ],
   "source": [
    "# You can also do this:\n",
    "ar_mt[2,1]  # this is the preferred way"
   ]
  },
  {
   "cell_type": "code",
   "execution_count": 89,
   "id": "3fd25e87",
   "metadata": {},
   "outputs": [
    {
     "data": {
      "text/plain": [
       "array([[1, 2, 3],\n",
       "       [4, 5, 6]])"
      ]
     },
     "execution_count": 89,
     "metadata": {},
     "output_type": "execute_result"
    }
   ],
   "source": [
    "# This is very cool, because you can do this too:\n",
    "ar_mt[:2,0:]  # rows 0 and 1, all columns"
   ]
  },
  {
   "cell_type": "code",
   "execution_count": 90,
   "id": "a52c014f",
   "metadata": {},
   "outputs": [
    {
     "data": {
      "text/plain": [
       "array([[2, 3]])"
      ]
     },
     "execution_count": 90,
     "metadata": {},
     "output_type": "execute_result"
    }
   ],
   "source": [
    "# Another example\n",
    "ar_mt[:1,1:]  # row 0, columns 1 and 2"
   ]
  },
  {
   "cell_type": "markdown",
   "id": "b1b1bdbb",
   "metadata": {},
   "source": [
    "* Next topic: Comparison with Operators"
   ]
  },
  {
   "cell_type": "code",
   "execution_count": 91,
   "id": "1c4b4601",
   "metadata": {},
   "outputs": [
    {
     "data": {
      "text/plain": [
       "array([ 1,  2,  3,  4,  5,  6,  7,  8,  9, 10])"
      ]
     },
     "execution_count": 91,
     "metadata": {},
     "output_type": "execute_result"
    }
   ],
   "source": [
    "new_arr = np.arange(1,11)\n",
    "new_arr"
   ]
  },
  {
   "cell_type": "code",
   "execution_count": 92,
   "id": "6bc5e484",
   "metadata": {},
   "outputs": [
    {
     "data": {
      "text/plain": [
       "array([False, False, False, False, False, False, False,  True,  True,\n",
       "        True])"
      ]
     },
     "execution_count": 92,
     "metadata": {},
     "output_type": "execute_result"
    }
   ],
   "source": [
    "exp = new_arr > 7  # this returns a boolean array\n",
    "exp "
   ]
  },
  {
   "cell_type": "code",
   "execution_count": 93,
   "id": "b508a9cc",
   "metadata": {},
   "outputs": [
    {
     "data": {
      "text/plain": [
       "array([ 8,  9, 10])"
      ]
     },
     "execution_count": 93,
     "metadata": {},
     "output_type": "execute_result"
    }
   ],
   "source": [
    "new_arr[exp] # this returns the values that satisfy the condition"
   ]
  },
  {
   "cell_type": "code",
   "execution_count": 94,
   "id": "4fb94eff",
   "metadata": {},
   "outputs": [
    {
     "data": {
      "text/plain": [
       "array([ 8,  9, 10])"
      ]
     },
     "execution_count": 94,
     "metadata": {},
     "output_type": "execute_result"
    }
   ],
   "source": [
    "# You can also do this:\n",
    "new_arr[new_arr > 7]  # this is the preferred way\n",
    "# You can do this with multiple conditions too <, >, ==, etc."
   ]
  },
  {
   "cell_type": "code",
   "execution_count": 95,
   "id": "1295dbdd",
   "metadata": {},
   "outputs": [
    {
     "data": {
      "text/plain": [
       "array([[ 0,  1,  2,  3,  4],\n",
       "       [ 5,  6,  7,  8,  9],\n",
       "       [10, 11, 12, 13, 14],\n",
       "       [15, 16, 17, 18, 19]])"
      ]
     },
     "execution_count": 95,
     "metadata": {},
     "output_type": "execute_result"
    }
   ],
   "source": [
    "# Now, let's see how to do something new\n",
    "new_arr = np.arange(20).reshape(4,5)  # reshape the array to 4 rows and 5 columns\n",
    "new_arr\n",
    "# np.arange(n).reshape(r, c). Creates a sequence of numbers from 0 to n-1 and reshapes it into a matrix with r rows and c columns."
   ]
  },
  {
   "cell_type": "code",
   "execution_count": 96,
   "id": "6e3a8a1b",
   "metadata": {},
   "outputs": [
    {
     "data": {
      "text/plain": [
       "array([12])"
      ]
     },
     "execution_count": 96,
     "metadata": {},
     "output_type": "execute_result"
    }
   ],
   "source": [
    "new_arr[2, 2:3]  "
   ]
  },
  {
   "cell_type": "code",
   "execution_count": 97,
   "id": "b9daa1c3",
   "metadata": {},
   "outputs": [
    {
     "data": {
      "text/plain": [
       "array([[13, 14],\n",
       "       [18, 19]])"
      ]
     },
     "execution_count": 97,
     "metadata": {},
     "output_type": "execute_result"
    }
   ],
   "source": [
    "# Or this:\n",
    "new_arr[2:, 3:]  # from row 2 and column 3 to the end"
   ]
  },
  {
   "cell_type": "code",
   "execution_count": 98,
   "id": "e6f1bc5b",
   "metadata": {},
   "outputs": [
    {
     "data": {
      "text/plain": [
       "array([15, 16])"
      ]
     },
     "execution_count": 98,
     "metadata": {},
     "output_type": "execute_result"
    }
   ],
   "source": [
    "# It's possible to do this too:\n",
    "new_arr[3, :2]  # row 3, columns 0 and 1"
   ]
  },
  {
   "cell_type": "markdown",
   "id": "0a009127",
   "metadata": {},
   "source": [
    "**|=>** There are many possibilities; you can experiment and practice visualizing your choices. Happy studying!"
   ]
  }
 ],
 "metadata": {
  "kernelspec": {
   "display_name": "base",
   "language": "python",
   "name": "python3"
  },
  "language_info": {
   "codemirror_mode": {
    "name": "ipython",
    "version": 3
   },
   "file_extension": ".py",
   "mimetype": "text/x-python",
   "name": "python",
   "nbconvert_exporter": "python",
   "pygments_lexer": "ipython3",
   "version": "3.12.4"
  }
 },
 "nbformat": 4,
 "nbformat_minor": 5
}
